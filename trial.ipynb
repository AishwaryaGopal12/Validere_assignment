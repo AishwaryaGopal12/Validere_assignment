{
 "cells": [
  {
   "cell_type": "code",
   "execution_count": 68,
   "id": "7144971b",
   "metadata": {},
   "outputs": [],
   "source": [
    "import os\n",
    "\n",
    "%matplotlib inline\n",
    "import string\n",
    "from collections import deque\n",
    "\n",
    "import matplotlib.pyplot as plt\n",
    "import numpy as np\n",
    "import pandas as pd\n",
    "import seaborn as sns"
   ]
  },
  {
   "cell_type": "code",
   "execution_count": 2,
   "id": "9ffec47d",
   "metadata": {},
   "outputs": [],
   "source": [
    "data = pd.read_csv(\"database.csv\")"
   ]
  },
  {
   "cell_type": "code",
   "execution_count": 3,
   "id": "eebda85e",
   "metadata": {},
   "outputs": [
    {
     "data": {
      "text/html": [
       "<div>\n",
       "<style scoped>\n",
       "    .dataframe tbody tr th:only-of-type {\n",
       "        vertical-align: middle;\n",
       "    }\n",
       "\n",
       "    .dataframe tbody tr th {\n",
       "        vertical-align: top;\n",
       "    }\n",
       "\n",
       "    .dataframe thead th {\n",
       "        text-align: right;\n",
       "    }\n",
       "</style>\n",
       "<table border=\"1\" class=\"dataframe\">\n",
       "  <thead>\n",
       "    <tr style=\"text-align: right;\">\n",
       "      <th></th>\n",
       "      <th>Report Number</th>\n",
       "      <th>Supplemental Number</th>\n",
       "      <th>Accident Year</th>\n",
       "      <th>Accident Date/Time</th>\n",
       "      <th>Operator ID</th>\n",
       "      <th>Operator Name</th>\n",
       "      <th>Pipeline/Facility Name</th>\n",
       "      <th>Pipeline Location</th>\n",
       "      <th>Pipeline Type</th>\n",
       "      <th>Liquid Type</th>\n",
       "      <th>...</th>\n",
       "      <th>Other Fatalities</th>\n",
       "      <th>Public Fatalities</th>\n",
       "      <th>All Fatalities</th>\n",
       "      <th>Property Damage Costs</th>\n",
       "      <th>Lost Commodity Costs</th>\n",
       "      <th>Public/Private Property Damage Costs</th>\n",
       "      <th>Emergency Response Costs</th>\n",
       "      <th>Environmental Remediation Costs</th>\n",
       "      <th>Other Costs</th>\n",
       "      <th>All Costs</th>\n",
       "    </tr>\n",
       "  </thead>\n",
       "  <tbody>\n",
       "    <tr>\n",
       "      <th>0</th>\n",
       "      <td>20100016</td>\n",
       "      <td>17305</td>\n",
       "      <td>2010</td>\n",
       "      <td>1/1/2010 7:15 AM</td>\n",
       "      <td>32109</td>\n",
       "      <td>ONEOK NGL PIPELINE LP</td>\n",
       "      <td>KINDER MORGAN JCT</td>\n",
       "      <td>ONSHORE</td>\n",
       "      <td>ABOVEGROUND</td>\n",
       "      <td>HVL OR OTHER FLAMMABLE OR TOXIC FLUID, GAS</td>\n",
       "      <td>...</td>\n",
       "      <td>NaN</td>\n",
       "      <td>NaN</td>\n",
       "      <td>NaN</td>\n",
       "      <td>110.0</td>\n",
       "      <td>1517.0</td>\n",
       "      <td>0.0</td>\n",
       "      <td>0.0</td>\n",
       "      <td>0.0</td>\n",
       "      <td>0.0</td>\n",
       "      <td>1627</td>\n",
       "    </tr>\n",
       "    <tr>\n",
       "      <th>1</th>\n",
       "      <td>20100254</td>\n",
       "      <td>17331</td>\n",
       "      <td>2010</td>\n",
       "      <td>1/4/2010 8:30 AM</td>\n",
       "      <td>15786</td>\n",
       "      <td>PORTLAND PIPELINE CORP</td>\n",
       "      <td>24-INCH MAIN LINE</td>\n",
       "      <td>ONSHORE</td>\n",
       "      <td>ABOVEGROUND</td>\n",
       "      <td>CRUDE OIL</td>\n",
       "      <td>...</td>\n",
       "      <td>NaN</td>\n",
       "      <td>NaN</td>\n",
       "      <td>NaN</td>\n",
       "      <td>4000.0</td>\n",
       "      <td>8.0</td>\n",
       "      <td>0.0</td>\n",
       "      <td>0.0</td>\n",
       "      <td>0.0</td>\n",
       "      <td>0.0</td>\n",
       "      <td>4008</td>\n",
       "    </tr>\n",
       "    <tr>\n",
       "      <th>2</th>\n",
       "      <td>20100038</td>\n",
       "      <td>17747</td>\n",
       "      <td>2010</td>\n",
       "      <td>1/5/2010 10:30 AM</td>\n",
       "      <td>20160</td>\n",
       "      <td>PETROLOGISTICS OLEFINS, LLC</td>\n",
       "      <td>NaN</td>\n",
       "      <td>ONSHORE</td>\n",
       "      <td>ABOVEGROUND</td>\n",
       "      <td>HVL OR OTHER FLAMMABLE OR TOXIC FLUID, GAS</td>\n",
       "      <td>...</td>\n",
       "      <td>NaN</td>\n",
       "      <td>NaN</td>\n",
       "      <td>NaN</td>\n",
       "      <td>0.0</td>\n",
       "      <td>200.0</td>\n",
       "      <td>0.0</td>\n",
       "      <td>0.0</td>\n",
       "      <td>0.0</td>\n",
       "      <td>0.0</td>\n",
       "      <td>200</td>\n",
       "    </tr>\n",
       "    <tr>\n",
       "      <th>3</th>\n",
       "      <td>20100260</td>\n",
       "      <td>18574</td>\n",
       "      <td>2010</td>\n",
       "      <td>1/6/2010 7:30 PM</td>\n",
       "      <td>11169</td>\n",
       "      <td>ENBRIDGE ENERGY, LIMITED PARTNERSHIP</td>\n",
       "      <td>SUPERIOR TERMINAL</td>\n",
       "      <td>ONSHORE</td>\n",
       "      <td>UNDERGROUND</td>\n",
       "      <td>CRUDE OIL</td>\n",
       "      <td>...</td>\n",
       "      <td>NaN</td>\n",
       "      <td>NaN</td>\n",
       "      <td>NaN</td>\n",
       "      <td>200.0</td>\n",
       "      <td>40.0</td>\n",
       "      <td>0.0</td>\n",
       "      <td>11300.0</td>\n",
       "      <td>0.0</td>\n",
       "      <td>0.0</td>\n",
       "      <td>11540</td>\n",
       "    </tr>\n",
       "    <tr>\n",
       "      <th>4</th>\n",
       "      <td>20100030</td>\n",
       "      <td>16276</td>\n",
       "      <td>2010</td>\n",
       "      <td>1/7/2010 1:00 PM</td>\n",
       "      <td>300</td>\n",
       "      <td>PLAINS PIPELINE, L.P.</td>\n",
       "      <td>RED RIVER EAST</td>\n",
       "      <td>ONSHORE</td>\n",
       "      <td>UNDERGROUND</td>\n",
       "      <td>CRUDE OIL</td>\n",
       "      <td>...</td>\n",
       "      <td>NaN</td>\n",
       "      <td>NaN</td>\n",
       "      <td>NaN</td>\n",
       "      <td>20000.0</td>\n",
       "      <td>150.0</td>\n",
       "      <td>0.0</td>\n",
       "      <td>7500.0</td>\n",
       "      <td>2000.0</td>\n",
       "      <td>0.0</td>\n",
       "      <td>29650</td>\n",
       "    </tr>\n",
       "  </tbody>\n",
       "</table>\n",
       "<p>5 rows × 48 columns</p>\n",
       "</div>"
      ],
      "text/plain": [
       "   Report Number  Supplemental Number  Accident Year Accident Date/Time  \\\n",
       "0       20100016                17305           2010   1/1/2010 7:15 AM   \n",
       "1       20100254                17331           2010   1/4/2010 8:30 AM   \n",
       "2       20100038                17747           2010  1/5/2010 10:30 AM   \n",
       "3       20100260                18574           2010   1/6/2010 7:30 PM   \n",
       "4       20100030                16276           2010   1/7/2010 1:00 PM   \n",
       "\n",
       "   Operator ID                         Operator Name Pipeline/Facility Name  \\\n",
       "0        32109                 ONEOK NGL PIPELINE LP      KINDER MORGAN JCT   \n",
       "1        15786                PORTLAND PIPELINE CORP      24-INCH MAIN LINE   \n",
       "2        20160           PETROLOGISTICS OLEFINS, LLC                    NaN   \n",
       "3        11169  ENBRIDGE ENERGY, LIMITED PARTNERSHIP      SUPERIOR TERMINAL   \n",
       "4          300                 PLAINS PIPELINE, L.P.         RED RIVER EAST   \n",
       "\n",
       "  Pipeline Location Pipeline Type                                 Liquid Type  \\\n",
       "0           ONSHORE   ABOVEGROUND  HVL OR OTHER FLAMMABLE OR TOXIC FLUID, GAS   \n",
       "1           ONSHORE   ABOVEGROUND                                   CRUDE OIL   \n",
       "2           ONSHORE   ABOVEGROUND  HVL OR OTHER FLAMMABLE OR TOXIC FLUID, GAS   \n",
       "3           ONSHORE   UNDERGROUND                                   CRUDE OIL   \n",
       "4           ONSHORE   UNDERGROUND                                   CRUDE OIL   \n",
       "\n",
       "   ... Other Fatalities Public Fatalities All Fatalities  \\\n",
       "0  ...              NaN               NaN            NaN   \n",
       "1  ...              NaN               NaN            NaN   \n",
       "2  ...              NaN               NaN            NaN   \n",
       "3  ...              NaN               NaN            NaN   \n",
       "4  ...              NaN               NaN            NaN   \n",
       "\n",
       "  Property Damage Costs Lost Commodity Costs  \\\n",
       "0                 110.0               1517.0   \n",
       "1                4000.0                  8.0   \n",
       "2                   0.0                200.0   \n",
       "3                 200.0                 40.0   \n",
       "4               20000.0                150.0   \n",
       "\n",
       "   Public/Private Property Damage Costs  Emergency Response Costs  \\\n",
       "0                                   0.0                       0.0   \n",
       "1                                   0.0                       0.0   \n",
       "2                                   0.0                       0.0   \n",
       "3                                   0.0                   11300.0   \n",
       "4                                   0.0                    7500.0   \n",
       "\n",
       "  Environmental Remediation Costs Other Costs  All Costs  \n",
       "0                             0.0         0.0       1627  \n",
       "1                             0.0         0.0       4008  \n",
       "2                             0.0         0.0        200  \n",
       "3                             0.0         0.0      11540  \n",
       "4                          2000.0         0.0      29650  \n",
       "\n",
       "[5 rows x 48 columns]"
      ]
     },
     "execution_count": 3,
     "metadata": {},
     "output_type": "execute_result"
    }
   ],
   "source": [
    "data.head()"
   ]
  },
  {
   "cell_type": "code",
   "execution_count": 4,
   "id": "fc3fec0b",
   "metadata": {},
   "outputs": [
    {
     "name": "stdout",
     "output_type": "stream",
     "text": [
      "<class 'pandas.core.frame.DataFrame'>\n",
      "RangeIndex: 2795 entries, 0 to 2794\n",
      "Data columns (total 48 columns):\n",
      " #   Column                                Non-Null Count  Dtype  \n",
      "---  ------                                --------------  -----  \n",
      " 0   Report Number                         2795 non-null   int64  \n",
      " 1   Supplemental Number                   2795 non-null   int64  \n",
      " 2   Accident Year                         2795 non-null   int64  \n",
      " 3   Accident Date/Time                    2795 non-null   object \n",
      " 4   Operator ID                           2795 non-null   int64  \n",
      " 5   Operator Name                         2795 non-null   object \n",
      " 6   Pipeline/Facility Name                2674 non-null   object \n",
      " 7   Pipeline Location                     2795 non-null   object \n",
      " 8   Pipeline Type                         2777 non-null   object \n",
      " 9   Liquid Type                           2795 non-null   object \n",
      " 10  Liquid Subtype                        1349 non-null   object \n",
      " 11  Liquid Name                           222 non-null    object \n",
      " 12  Accident City                         2480 non-null   object \n",
      " 13  Accident County                       2720 non-null   object \n",
      " 14  Accident State                        2783 non-null   object \n",
      " 15  Accident Latitude                     2795 non-null   float64\n",
      " 16  Accident Longitude                    2795 non-null   float64\n",
      " 17  Cause Category                        2795 non-null   object \n",
      " 18  Cause Subcategory                     2795 non-null   object \n",
      " 19  Unintentional Release (Barrels)       2795 non-null   float64\n",
      " 20  Intentional Release (Barrels)         1209 non-null   float64\n",
      " 21  Liquid Recovery (Barrels)             2795 non-null   float64\n",
      " 22  Net Loss (Barrels)                    2795 non-null   float64\n",
      " 23  Liquid Ignition                       2795 non-null   object \n",
      " 24  Liquid Explosion                      2795 non-null   object \n",
      " 25  Pipeline Shutdown                     2583 non-null   object \n",
      " 26  Shutdown Date/Time                    1390 non-null   object \n",
      " 27  Restart Date/Time                     1341 non-null   object \n",
      " 28  Public Evacuations                    2338 non-null   float64\n",
      " 29  Operator Employee Injuries            12 non-null     float64\n",
      " 30  Operator Contractor Injuries          12 non-null     float64\n",
      " 31  Emergency Responder Injuries          12 non-null     float64\n",
      " 32  Other Injuries                        12 non-null     float64\n",
      " 33  Public Injuries                       12 non-null     float64\n",
      " 34  All Injuries                          12 non-null     float64\n",
      " 35  Operator Employee Fatalities          8 non-null      float64\n",
      " 36  Operator Contractor Fatalities        8 non-null      float64\n",
      " 37  Emergency Responder Fatalities        8 non-null      float64\n",
      " 38  Other Fatalities                      8 non-null      float64\n",
      " 39  Public Fatalities                     8 non-null      float64\n",
      " 40  All Fatalities                        8 non-null      float64\n",
      " 41  Property Damage Costs                 2788 non-null   float64\n",
      " 42  Lost Commodity Costs                  2791 non-null   float64\n",
      " 43  Public/Private Property Damage Costs  2785 non-null   float64\n",
      " 44  Emergency Response Costs              2789 non-null   float64\n",
      " 45  Environmental Remediation Costs       2787 non-null   float64\n",
      " 46  Other Costs                           2779 non-null   float64\n",
      " 47  All Costs                             2795 non-null   int64  \n",
      "dtypes: float64(25), int64(5), object(18)\n",
      "memory usage: 1.0+ MB\n"
     ]
    }
   ],
   "source": [
    "data.info()"
   ]
  },
  {
   "cell_type": "code",
   "execution_count": 5,
   "id": "d4fa6e16",
   "metadata": {},
   "outputs": [
    {
     "data": {
      "text/plain": [
       "ABOVEGROUND        1475\n",
       "UNDERGROUND         985\n",
       "TANK                301\n",
       "TRANSITION AREA      16\n",
       "Name: Pipeline Type, dtype: int64"
      ]
     },
     "execution_count": 5,
     "metadata": {},
     "output_type": "execute_result"
    }
   ],
   "source": [
    "data['Pipeline Type'].value_counts()"
   ]
  },
  {
   "cell_type": "code",
   "execution_count": 43,
   "id": "24045597",
   "metadata": {},
   "outputs": [
    {
     "data": {
      "text/plain": [
       "ONSHORE     2777\n",
       "OFFSHORE      18\n",
       "Name: Pipeline Location, dtype: int64"
      ]
     },
     "execution_count": 43,
     "metadata": {},
     "output_type": "execute_result"
    }
   ],
   "source": [
    "data['Pipeline Location'].value_counts()"
   ]
  },
  {
   "cell_type": "code",
   "execution_count": 45,
   "id": "9d399d63",
   "metadata": {},
   "outputs": [
    {
     "data": {
      "text/plain": [
       "INTERNAL                                             362\n",
       "PUMP OR PUMP-RELATED EQUIPMENT                       296\n",
       "NON-THREADED CONNECTION FAILURE                      286\n",
       "EXTERNAL                                             230\n",
       "OTHER EQUIPMENT FAILURE                              204\n",
       "MALFUNCTION OF CONTROL/RELIEF EQUIPMENT              171\n",
       "THREADED CONNECTION/COUPLING FAILURE                 151\n",
       "CONSTRUCTION, INSTALLATION OR FABRICATION-RELATED    112\n",
       "OTHER INCORRECT OPERATION                             86\n",
       "INCORRECT VALVE POSITION                              84\n",
       "MISCELLANEOUS                                         76\n",
       "INCORRECT INSTALLATION                                72\n",
       "MANUFACTURING-RELATED                                 70\n",
       "OVERFILL/OVERFLOW OF TANK/VESSEL/SUMP                 69\n",
       "FAILURE OF EQUIPMENT BODY                             67\n",
       "DEFECTIVE OR LOOSE TUBING/FITTING                     62\n",
       "THIRD PARTY EXCAVATION DAMAGE                         57\n",
       "TEMPERATURE                                           57\n",
       "UNKNOWN                                               42\n",
       "PIPELINE/EQUIPMENT OVERPRESSURED                      37\n",
       "OPERATOR/CONTRACTOR EXCAVATION DAMAGE                 28\n",
       "HEAVY RAINS/FLOODS                                    25\n",
       "VEHICLE NOT ENGAGED IN EXCAVATION                     21\n",
       "DAMAGE BY OPERATOR OR OPERATOR'S CONTRACTOR           20\n",
       "LIGHTNING                                             19\n",
       "ENVIRONMENTAL CRACKING-RELATED                        16\n",
       "OTHER OUTSIDE FORCE DAMAGE                            15\n",
       "PREVIOUS DAMAGE DUE TO EXCAVATION                     12\n",
       "ELECTRICAL ARCING FROM OTHER EQUIPMENT/FACILITY       11\n",
       "INCORRECT EQUIPMENT                                   10\n",
       "OTHER NATURAL FORCE DAMAGE                             8\n",
       "EARTH MOVEMENT                                         8\n",
       "FIRE/EXPLOSION AS PRIMARY CAUSE                        4\n",
       "INTENTIONAL DAMAGE                                     3\n",
       "HIGH WINDS                                             1\n",
       "PREVIOUS MECHANICAL DAMAGE                             1\n",
       "MARITIME EQUIPMENT OR VESSEL ADRIFT                    1\n",
       "FISHING OR MARITIME ACTIVITY                           1\n",
       "Name: Cause Subcategory, dtype: int64"
      ]
     },
     "execution_count": 45,
     "metadata": {},
     "output_type": "execute_result"
    }
   ],
   "source": [
    "data['Cause Subcategory'].value_counts()"
   ]
  },
  {
   "cell_type": "code",
   "execution_count": 9,
   "id": "56ea4a0f",
   "metadata": {},
   "outputs": [
    {
     "data": {
      "text/plain": [
       "18.44801"
      ]
     },
     "execution_count": 9,
     "metadata": {},
     "output_type": "execute_result"
    }
   ],
   "source": [
    "data['Accident Latitude'].min()"
   ]
  },
  {
   "cell_type": "code",
   "execution_count": 11,
   "id": "935eba49",
   "metadata": {},
   "outputs": [
    {
     "data": {
      "text/plain": [
       "MATERIAL/WELD/EQUIP FAILURE    1435\n",
       "CORROSION                       592\n",
       "INCORRECT OPERATION             378\n",
       "ALL OTHER CAUSES                118\n",
       "NATURAL FORCE DAMAGE            118\n",
       "EXCAVATION DAMAGE                97\n",
       "OTHER OUTSIDE FORCE DAMAGE       57\n",
       "Name: Cause Category, dtype: int64"
      ]
     },
     "execution_count": 11,
     "metadata": {},
     "output_type": "execute_result"
    }
   ],
   "source": [
    "data['Cause Category'].value_counts()"
   ]
  },
  {
   "cell_type": "code",
   "execution_count": 13,
   "id": "6f1e8546",
   "metadata": {},
   "outputs": [
    {
     "data": {
      "text/plain": [
       "NO     2700\n",
       "YES      95\n",
       "Name: Liquid Ignition, dtype: int64"
      ]
     },
     "execution_count": 13,
     "metadata": {},
     "output_type": "execute_result"
    }
   ],
   "source": [
    "data['Liquid Ignition'].value_counts()"
   ]
  },
  {
   "cell_type": "code",
   "execution_count": 14,
   "id": "3f1529b8",
   "metadata": {},
   "outputs": [
    {
     "data": {
      "text/plain": [
       "NO     2780\n",
       "YES      15\n",
       "Name: Liquid Explosion, dtype: int64"
      ]
     },
     "execution_count": 14,
     "metadata": {},
     "output_type": "execute_result"
    }
   ],
   "source": [
    "data['Liquid Explosion'].value_counts()"
   ]
  },
  {
   "cell_type": "code",
   "execution_count": 22,
   "id": "616b4e11",
   "metadata": {},
   "outputs": [
    {
     "data": {
      "text/plain": [
       "2015    462\n",
       "2014    454\n",
       "2016    415\n",
       "2013    401\n",
       "2012    366\n",
       "2010    350\n",
       "2011    345\n",
       "2017      2\n",
       "Name: Accident Year, dtype: int64"
      ]
     },
     "execution_count": 22,
     "metadata": {},
     "output_type": "execute_result"
    }
   ],
   "source": [
    "data['Accident Year'].value_counts()"
   ]
  },
  {
   "cell_type": "code",
   "execution_count": 25,
   "id": "b3f1b1c8",
   "metadata": {},
   "outputs": [
    {
     "data": {
      "text/plain": [
       "<AxesSubplot:xlabel='Accident Year', ylabel='count'>"
      ]
     },
     "execution_count": 25,
     "metadata": {},
     "output_type": "execute_result"
    },
    {
     "data": {
      "image/png": "[encoded data removed]",
      "text/plain": [
       "<Figure size 432x288 with 1 Axes>"
      ]
     },
     "metadata": {
      "needs_background": "light"
     },
     "output_type": "display_data"
    }
   ],
   "source": [
    "sns.countplot(x = 'Accident Year', data = data)"
   ]
  },
  {
   "cell_type": "code",
   "execution_count": 35,
   "id": "b3de02c8",
   "metadata": {},
   "outputs": [
    {
     "data": {
      "text/plain": [
       "<AxesSubplot:xlabel='count', ylabel='Cause Category'>"
      ]
     },
     "execution_count": 35,
     "metadata": {},
     "output_type": "execute_result"
    },
    {
     "data": {
      "image/png": "[encoded data removed]",
      "text/plain": [
       "<Figure size 432x288 with 1 Axes>"
      ]
     },
     "metadata": {
      "needs_background": "light"
     },
     "output_type": "display_data"
    }
   ],
   "source": [
    "sns.countplot(y = 'Cause Category', data = data)\n",
    "# cause_plot.set_xticklabels(cause_plot.get_xticklabels(), rotation=90)"
   ]
  },
  {
   "cell_type": "markdown",
   "id": "a5a0dd2a",
   "metadata": {},
   "source": [
    "From the above plot, Material/Equipment failure is the most frequent cause of pipeline incidents and corrosion follows next. Let's investigate CORROSION first and check how the properties of crude oil contribute to corrosion."
   ]
  },
  {
   "cell_type": "code",
   "execution_count": 38,
   "id": "2e374c39",
   "metadata": {},
   "outputs": [],
   "source": [
    "corrosion_incidents = data.query('`Cause Category` == \"CORROSION\"')"
   ]
  },
  {
   "cell_type": "code",
   "execution_count": 44,
   "id": "fc9e3323",
   "metadata": {},
   "outputs": [
    {
     "data": {
      "text/plain": [
       "INTERNAL    362\n",
       "EXTERNAL    230\n",
       "Name: Cause Subcategory, dtype: int64"
      ]
     },
     "execution_count": 44,
     "metadata": {},
     "output_type": "execute_result"
    }
   ],
   "source": [
    "corrosion_incidents['Cause Subcategory'].value_counts()"
   ]
  },
  {
   "cell_type": "markdown",
   "id": "0488fbb0",
   "metadata": {},
   "source": [
    "From this data, we can infer that, internal corrosion has been a major contributor to pipeline incidents that occured due to corrosion. "
   ]
  },
  {
   "cell_type": "code",
   "execution_count": 40,
   "id": "d1687f1b",
   "metadata": {},
   "outputs": [
    {
     "data": {
      "text/plain": [
       "UNDERGROUND        427\n",
       "ABOVEGROUND        110\n",
       "TANK                42\n",
       "TRANSITION AREA      7\n",
       "Name: Pipeline Type, dtype: int64"
      ]
     },
     "execution_count": 40,
     "metadata": {},
     "output_type": "execute_result"
    }
   ],
   "source": [
    "corrosion_incidents['Pipeline Type'].value_counts()"
   ]
  },
  {
   "cell_type": "markdown",
   "id": "1cfd88e7",
   "metadata": {},
   "source": [
    "In the entire dataset, the number of incidents with ABOVEGROUND pipes are higher. But while specifically looking at incidents due to corrosion, we can see that UNDERGROUND pipes are more prone to corrosion."
   ]
  },
  {
   "cell_type": "code",
   "execution_count": 47,
   "id": "1f939d66",
   "metadata": {},
   "outputs": [
    {
     "data": {
      "text/plain": [
       "Cause Subcategory  Pipeline Type  \n",
       "EXTERNAL           ABOVEGROUND         26\n",
       "                   TANK                14\n",
       "                   TRANSITION AREA      3\n",
       "                   UNDERGROUND        182\n",
       "INTERNAL           ABOVEGROUND         84\n",
       "                   TANK                28\n",
       "                   TRANSITION AREA      4\n",
       "                   UNDERGROUND        245\n",
       "dtype: int64"
      ]
     },
     "execution_count": 47,
     "metadata": {},
     "output_type": "execute_result"
    }
   ],
   "source": [
    "corrosion_incidents.groupby(['Cause Subcategory', 'Pipeline Type']).size()"
   ]
  },
  {
   "cell_type": "markdown",
   "id": "2dc68d25",
   "metadata": {},
   "source": [
    "From the above data, we can see that Internal corrosion in underground pipes are the major contributor to incidents due to corrosion."
   ]
  },
  {
   "cell_type": "code",
   "execution_count": 57,
   "id": "0d5940bb",
   "metadata": {},
   "outputs": [
    {
     "data": {
      "text/plain": [
       "Liquid Type\n",
       "CO2 (CARBON DIOXIDE)                                    6\n",
       "CRUDE OIL                                             419\n",
       "HVL OR OTHER FLAMMABLE OR TOXIC FLUID, GAS             35\n",
       "REFINED AND/OR PETROLEUM PRODUCT (NON-HVL), LIQUID    132\n",
       "dtype: int64"
      ]
     },
     "execution_count": 57,
     "metadata": {},
     "output_type": "execute_result"
    }
   ],
   "source": [
    "corrosion_incidents.groupby(['Liquid Type']).size()"
   ]
  },
  {
   "cell_type": "markdown",
   "id": "65ab7a53",
   "metadata": {},
   "source": [
    "Among corrosion, pipelines carrying crude oil are the most prone."
   ]
  },
  {
   "cell_type": "markdown",
   "id": "9a0396e2",
   "metadata": {},
   "source": [
    "Corrosivity in transmission pipelines comes from two sources – water content and erosive constituents, such as mud and sand. Those substances are removed before crude oil enters pipelines for transmission. Moreover, for transport in transmission pipelines, the sand and water content of oil is strictly controlled and the combined basic sediment and water content must be less than 0.5 per cent by volume."
   ]
  },
  {
   "cell_type": "markdown",
   "id": "fcbf5894",
   "metadata": {},
   "source": [
    "Crude oil and natural gas can carry various high-impurity products which are inherently corrosive. In the case of oil and gas wells and pipelines, such highly corrosive media are carbon dioxide (CO2), hydrogen sulfide (H2S), and free water. Continual extraction of CO2, H2S, and free water through oil and gas components can over time make the internal surfaces of these components to suffer from corrosion effects. The lines and the component fittings of the lines would undergo material degradations with the varying conditions of the well due to changes in fluid compositions, souring of wells over the period, and changes in operating conditions of the pressures and temperatures. This material degradation results in the loss of mechanical properties like strength, ductility, impact strength, and so on. This leads to loss of materials, reduction in thickness, and at times ultimate failure. A point will be reached where the component may completely break down and the assembly will need to be replaced while production is stopped."
   ]
  },
  {
   "cell_type": "markdown",
   "id": "6f717867",
   "metadata": {},
   "source": [
    "Apart from that, CO2 is added to enhance oil production in some cases."
   ]
  },
  {
   "cell_type": "markdown",
   "id": "b1edd839",
   "metadata": {},
   "source": [
    "Difference in corrosion levels due to aboveground and underground "
   ]
  },
  {
   "cell_type": "markdown",
   "id": "b9539e9e",
   "metadata": {},
   "source": [
    "# Expploring physical/chemical that cause material/welding/equipment failure"
   ]
  },
  {
   "cell_type": "code",
   "execution_count": 64,
   "id": "65311425",
   "metadata": {},
   "outputs": [],
   "source": [
    "failure_incidents = data.query('`Cause Category` == \"MATERIAL/WELD/EQUIP FAILURE\"')"
   ]
  },
  {
   "cell_type": "code",
   "execution_count": 65,
   "id": "6926ae4f",
   "metadata": {},
   "outputs": [
    {
     "data": {
      "text/plain": [
       "PUMP OR PUMP-RELATED EQUIPMENT                       296\n",
       "NON-THREADED CONNECTION FAILURE                      286\n",
       "OTHER EQUIPMENT FAILURE                              204\n",
       "MALFUNCTION OF CONTROL/RELIEF EQUIPMENT              171\n",
       "THREADED CONNECTION/COUPLING FAILURE                 151\n",
       "CONSTRUCTION, INSTALLATION OR FABRICATION-RELATED    112\n",
       "MANUFACTURING-RELATED                                 70\n",
       "FAILURE OF EQUIPMENT BODY                             67\n",
       "DEFECTIVE OR LOOSE TUBING/FITTING                     62\n",
       "ENVIRONMENTAL CRACKING-RELATED                        16\n",
       "Name: Cause Subcategory, dtype: int64"
      ]
     },
     "execution_count": 65,
     "metadata": {},
     "output_type": "execute_result"
    }
   ],
   "source": [
    "failure_incidents['Cause Subcategory'].value_counts()"
   ]
  },
  {
   "cell_type": "code",
   "execution_count": 67,
   "id": "d7e8f529",
   "metadata": {},
   "outputs": [
    {
     "data": {
      "text/plain": [
       "ABOVEGROUND        951\n",
       "UNDERGROUND        324\n",
       "TANK               151\n",
       "TRANSITION AREA      4\n",
       "Name: Pipeline Type, dtype: int64"
      ]
     },
     "execution_count": 67,
     "metadata": {},
     "output_type": "execute_result"
    }
   ],
   "source": [
    "failure_incidents['Pipeline Type'].value_counts()"
   ]
  },
  {
   "cell_type": "markdown",
   "id": "03bc4c91",
   "metadata": {},
   "source": [
    "While the failure of pump and related equipment seems to be the ajor contributor, upon further exploration, we can find that the major reason for pump related failure is corrosion."
   ]
  },
  {
   "cell_type": "markdown",
   "id": "fd0ac4e6",
   "metadata": {},
   "source": [
    "Heavy oil contains higher percentage of sulphur and carbon compounds. These compounds lead to faster corrosion."
   ]
  },
  {
   "cell_type": "code",
   "execution_count": 69,
   "id": "e2fd310b",
   "metadata": {},
   "outputs": [],
   "source": [
    "pipeline_lengths = pd.DataFrame({'year': [2010, 2011, 2012, 2013, 2014, 2015, 2016], 'Pipeline_length': [1554377, 1563638,1567477,1575707,1585809, 1594501, 1603982]})"
   ]
  },
  {
   "cell_type": "code",
   "execution_count": 70,
   "id": "5884f3a2",
   "metadata": {},
   "outputs": [
    {
     "data": {
      "text/html": [
       "<div>\n",
       "<style scoped>\n",
       "    .dataframe tbody tr th:only-of-type {\n",
       "        vertical-align: middle;\n",
       "    }\n",
       "\n",
       "    .dataframe tbody tr th {\n",
       "        vertical-align: top;\n",
       "    }\n",
       "\n",
       "    .dataframe thead th {\n",
       "        text-align: right;\n",
       "    }\n",
       "</style>\n",
       "<table border=\"1\" class=\"dataframe\">\n",
       "  <thead>\n",
       "    <tr style=\"text-align: right;\">\n",
       "      <th></th>\n",
       "      <th>year</th>\n",
       "      <th>Pipeline_length</th>\n",
       "    </tr>\n",
       "  </thead>\n",
       "  <tbody>\n",
       "    <tr>\n",
       "      <th>0</th>\n",
       "      <td>2010</td>\n",
       "      <td>1554377</td>\n",
       "    </tr>\n",
       "    <tr>\n",
       "      <th>1</th>\n",
       "      <td>2011</td>\n",
       "      <td>1563638</td>\n",
       "    </tr>\n",
       "    <tr>\n",
       "      <th>2</th>\n",
       "      <td>2012</td>\n",
       "      <td>1567477</td>\n",
       "    </tr>\n",
       "    <tr>\n",
       "      <th>3</th>\n",
       "      <td>2013</td>\n",
       "      <td>1575707</td>\n",
       "    </tr>\n",
       "    <tr>\n",
       "      <th>4</th>\n",
       "      <td>2014</td>\n",
       "      <td>1585809</td>\n",
       "    </tr>\n",
       "    <tr>\n",
       "      <th>5</th>\n",
       "      <td>2015</td>\n",
       "      <td>1594501</td>\n",
       "    </tr>\n",
       "    <tr>\n",
       "      <th>6</th>\n",
       "      <td>2016</td>\n",
       "      <td>1603982</td>\n",
       "    </tr>\n",
       "  </tbody>\n",
       "</table>\n",
       "</div>"
      ],
      "text/plain": [
       "   year  Pipeline_length\n",
       "0  2010          1554377\n",
       "1  2011          1563638\n",
       "2  2012          1567477\n",
       "3  2013          1575707\n",
       "4  2014          1585809\n",
       "5  2015          1594501\n",
       "6  2016          1603982"
      ]
     },
     "execution_count": 70,
     "metadata": {},
     "output_type": "execute_result"
    }
   ],
   "source": [
    "pipeline_lengths"
   ]
  },
  {
   "cell_type": "code",
   "execution_count": 75,
   "id": "8f2fe3fe",
   "metadata": {},
   "outputs": [
    {
     "data": {
      "text/html": [
       "<div>\n",
       "<style scoped>\n",
       "    .dataframe tbody tr th:only-of-type {\n",
       "        vertical-align: middle;\n",
       "    }\n",
       "\n",
       "    .dataframe tbody tr th {\n",
       "        vertical-align: top;\n",
       "    }\n",
       "\n",
       "    .dataframe thead th {\n",
       "        text-align: right;\n",
       "    }\n",
       "</style>\n",
       "<table border=\"1\" class=\"dataframe\">\n",
       "  <thead>\n",
       "    <tr style=\"text-align: right;\">\n",
       "      <th></th>\n",
       "      <th>0</th>\n",
       "    </tr>\n",
       "    <tr>\n",
       "      <th>Accident Year</th>\n",
       "      <th></th>\n",
       "    </tr>\n",
       "  </thead>\n",
       "  <tbody>\n",
       "    <tr>\n",
       "      <th>2010</th>\n",
       "      <td>350</td>\n",
       "    </tr>\n",
       "    <tr>\n",
       "      <th>2011</th>\n",
       "      <td>345</td>\n",
       "    </tr>\n",
       "    <tr>\n",
       "      <th>2012</th>\n",
       "      <td>366</td>\n",
       "    </tr>\n",
       "    <tr>\n",
       "      <th>2013</th>\n",
       "      <td>401</td>\n",
       "    </tr>\n",
       "    <tr>\n",
       "      <th>2014</th>\n",
       "      <td>454</td>\n",
       "    </tr>\n",
       "    <tr>\n",
       "      <th>2015</th>\n",
       "      <td>462</td>\n",
       "    </tr>\n",
       "    <tr>\n",
       "      <th>2016</th>\n",
       "      <td>415</td>\n",
       "    </tr>\n",
       "    <tr>\n",
       "      <th>2017</th>\n",
       "      <td>2</td>\n",
       "    </tr>\n",
       "  </tbody>\n",
       "</table>\n",
       "</div>"
      ],
      "text/plain": [
       "                 0\n",
       "Accident Year     \n",
       "2010           350\n",
       "2011           345\n",
       "2012           366\n",
       "2013           401\n",
       "2014           454\n",
       "2015           462\n",
       "2016           415\n",
       "2017             2"
      ]
     },
     "execution_count": 75,
     "metadata": {},
     "output_type": "execute_result"
    }
   ],
   "source": [
    "year_counts = pd.DataFrame(data.groupby('Accident Year').size())\n",
    "year_counts"
   ]
  },
  {
   "cell_type": "code",
   "execution_count": 79,
   "id": "8bbb4e1f",
   "metadata": {},
   "outputs": [],
   "source": [
    "# plt.plot(pipeline_lengths['year'], pipeline_lengths['Pipeline_length'])\n",
    "# plt.plot(year_counts.index, year_counts[0])\n"
   ]
  },
  {
   "cell_type": "code",
   "execution_count": 80,
   "id": "b4a78b1f",
   "metadata": {},
   "outputs": [
    {
     "data": {
      "text/plain": [
       "PROPANE                               26\n",
       "ETHANE                                24\n",
       "Y-GRADE                               23\n",
       "ETHYLENE                              17\n",
       "PROPYLENE                             15\n",
       "                                      ..\n",
       "TYPE OF PRODUCT WAS NOT IDENTIFIED     1\n",
       "VINYL ACETATE MONOMER                  1\n",
       "FULL RANGE NAPTHA                      1\n",
       "ULTRA LOW SULFUR DIESEL                1\n",
       "Y-GRADE (RAW FEED)                     1\n",
       "Name: Liquid Name, Length: 69, dtype: int64"
      ]
     },
     "execution_count": 80,
     "metadata": {},
     "output_type": "execute_result"
    }
   ],
   "source": [
    "data['Liquid Name'].value_counts()"
   ]
  },
  {
   "cell_type": "code",
   "execution_count": 81,
   "id": "a04742f7",
   "metadata": {},
   "outputs": [
    {
     "data": {
      "text/plain": [
       "[1, 2, 3, 5]"
      ]
     },
     "execution_count": 81,
     "metadata": {},
     "output_type": "execute_result"
    }
   ],
   "source": [
    "[1, 2, 3] + [5]"
   ]
  },
  {
   "cell_type": "code",
   "execution_count": 84,
   "id": "9f1dcf80",
   "metadata": {},
   "outputs": [
    {
     "name": "stdout",
     "output_type": "stream",
     "text": [
      "0\n",
      "1\n",
      "2\n",
      "3\n",
      "4\n",
      "5\n",
      "6\n"
     ]
    },
    {
     "ename": "IndexError",
     "evalue": "list index out of range",
     "output_type": "error",
     "traceback": [
      "\u001b[0;31m---------------------------------------------------------------------------\u001b[0m",
      "\u001b[0;31mIndexError\u001b[0m                                Traceback (most recent call last)",
      "\u001b[0;32m<ipython-input-84-857e32df5268>\u001b[0m in \u001b[0;36m<module>\u001b[0;34m\u001b[0m\n\u001b[1;32m      3\u001b[0m \u001b[0;32mfor\u001b[0m \u001b[0mi\u001b[0m \u001b[0;32min\u001b[0m \u001b[0mrange\u001b[0m\u001b[0;34m(\u001b[0m\u001b[0mlen\u001b[0m\u001b[0;34m(\u001b[0m\u001b[0mnumbers\u001b[0m\u001b[0;34m)\u001b[0m\u001b[0;34m)\u001b[0m\u001b[0;34m:\u001b[0m\u001b[0;34m\u001b[0m\u001b[0;34m\u001b[0m\u001b[0m\n\u001b[1;32m      4\u001b[0m     \u001b[0mprint\u001b[0m\u001b[0;34m(\u001b[0m\u001b[0mi\u001b[0m\u001b[0;34m)\u001b[0m\u001b[0;34m\u001b[0m\u001b[0;34m\u001b[0m\u001b[0m\n\u001b[0;32m----> 5\u001b[0;31m     \u001b[0;32mif\u001b[0m \u001b[0modd\u001b[0m\u001b[0;34m(\u001b[0m\u001b[0mnumbers\u001b[0m\u001b[0;34m[\u001b[0m\u001b[0mi\u001b[0m\u001b[0;34m]\u001b[0m\u001b[0;34m)\u001b[0m\u001b[0;34m:\u001b[0m\u001b[0;34m\u001b[0m\u001b[0;34m\u001b[0m\u001b[0m\n\u001b[0m\u001b[1;32m      6\u001b[0m         \u001b[0;32mdel\u001b[0m \u001b[0mnumbers\u001b[0m\u001b[0;34m[\u001b[0m\u001b[0mi\u001b[0m\u001b[0;34m]\u001b[0m\u001b[0;34m\u001b[0m\u001b[0;34m\u001b[0m\u001b[0m\n",
      "\u001b[0;31mIndexError\u001b[0m: list index out of range"
     ]
    }
   ],
   "source": [
    "odd = lambda x : bool(x%2)\n",
    "numbers = [n for n in range(10)]\n",
    "for i in range(len(numbers)):\n",
    "    print(i)\n",
    "    if odd(numbers[i]):\n",
    "        del numbers[i]\n"
   ]
  },
  {
   "cell_type": "code",
   "execution_count": null,
   "id": "a7767202",
   "metadata": {},
   "outputs": [],
   "source": [
    "def add_names_to_list(names):\n",
    "    \n",
    "    if not names:\n",
    "        raise ValueError(\"No values passed to the function\")\n",
    "        \n",
    "    if not all(isinstance(name, str) for name in names):\n",
    "        raise TypeError(\"The name is not a string\")\n",
    "        \n",
    "    name_list = []\n",
    "    for name in names:\n",
    "        name_list.append(name)\n",
    "    return name_list"
   ]
  },
  {
   "cell_type": "code",
   "execution_count": null,
   "id": "3a13d4de",
   "metadata": {},
   "outputs": [],
   "source": [
    "class testAddNamesToList(unittest.TestCase):\n",
    "    \n",
    "    def test_add_names_to_list(self):\n",
    "        sample_list = add_names_to_list(['Aish', 'Vinay'])\n",
    "        self.assertEqual(sample_list, ['Aish', 'Vinay'], \"Did not obtain expected result\")\n",
    "        \n",
    "    def test_input_values_list(self):\n",
    "        with raises(ValueError):\n",
    "            add_names_to_list([])\n",
    "            \n",
    "    def test_each_input_value(self):\n",
    "        with raises(TypeError):\n",
    "            add_names_to_list(['Aish', 2])\n",
    "    \n",
    "    "
   ]
  }
 ],
 "metadata": {
  "kernelspec": {
   "display_name": "Python [conda env:573]",
   "language": "python",
   "name": "conda-env-573-py"
  },
  "language_info": {
   "codemirror_mode": {
    "name": "ipython",
    "version": 3
   },
   "file_extension": ".py",
   "mimetype": "text/x-python",
   "name": "python",
   "nbconvert_exporter": "python",
   "pygments_lexer": "ipython3",
   "version": "3.8.6"
  }
 },
 "nbformat": 4,
 "nbformat_minor": 5
}
