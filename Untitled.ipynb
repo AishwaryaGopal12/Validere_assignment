{
 "cells": [
  {
   "cell_type": "code",
   "execution_count": 3,
   "id": "b5f15179",
   "metadata": {},
   "outputs": [],
   "source": [
    "import pandas as pd\n",
    "import numpy as np\n",
    "import os\n",
    "import sklearn\n",
    "from sklearn.linear_model import LinearRegression, Ridge\n",
    "from sklearn.tree import DecisionTreeRegressor\n",
    "from sklearn.ensemble import RandomForestRegressor\n",
    "from sklearn.model_selection import RepeatedKFold\n",
    "from sklearn.model_selection import train_test_split, cross_val_score, cross_validate, GridSearchCV\n",
    "from sklearn.metrics import mean_squared_error, r2_score, make_scorer\n",
    "from sklearn.pipeline import Pipeline, make_pipeline\n",
    "from sklearn.preprocessing import OneHotEncoder, OrdinalEncoder, StandardScaler"
   ]
  },
  {
   "cell_type": "code",
   "execution_count": 16,
   "id": "02a3fd99",
   "metadata": {},
   "outputs": [
    {
     "name": "stdout",
     "output_type": "stream",
     "text": [
      "<class 'pandas.core.frame.DataFrame'>\n",
      "Int64Index: 293 entries, 2 to 885\n",
      "Data columns (total 16 columns):\n",
      " #   Column    Non-Null Count  Dtype  \n",
      "---  ------    --------------  -----  \n",
      " 0   Density   293 non-null    float64\n",
      " 1   Butanes   293 non-null    float64\n",
      " 2   Heptanes  293 non-null    float64\n",
      " 3   Hexanes   293 non-null    float64\n",
      " 4   Octanes   293 non-null    float64\n",
      " 5   Nonanes   293 non-null    float64\n",
      " 6   Decanes   293 non-null    float64\n",
      " 7   5%        293 non-null    float64\n",
      " 8   10%       293 non-null    float64\n",
      " 9   20%       293 non-null    float64\n",
      " 10  30%       293 non-null    float64\n",
      " 11  40%       293 non-null    float64\n",
      " 12  50%       293 non-null    float64\n",
      " 13  60%       293 non-null    float64\n",
      " 14  70%       293 non-null    float64\n",
      " 15  80%       293 non-null    float64\n",
      "dtypes: float64(16)\n",
      "memory usage: 38.9 KB\n"
     ]
    }
   ],
   "source": [
    "final_data.info()"
   ]
  },
  {
   "cell_type": "code",
   "execution_count": 25,
   "id": "227e3248",
   "metadata": {},
   "outputs": [],
   "source": [
    "model = LinearRegression()"
   ]
  },
  {
   "cell_type": "code",
   "execution_count": 26,
   "id": "49ffd60f",
   "metadata": {},
   "outputs": [
    {
     "data": {
      "text/plain": [
       "LinearRegression()"
      ]
     },
     "execution_count": 26,
     "metadata": {},
     "output_type": "execute_result"
    }
   ],
   "source": [
    "model.fit(X, y)"
   ]
  },
  {
   "cell_type": "code",
   "execution_count": 27,
   "id": "31650fe2",
   "metadata": {},
   "outputs": [],
   "source": [
    "row = [56.6, 101.0, 144.5, 188.0, 240.6, 298.8, 356.2, 422.4, 512.4, 681.9]"
   ]
  },
  {
   "cell_type": "code",
   "execution_count": 28,
   "id": "04fb55a9",
   "metadata": {},
   "outputs": [],
   "source": [
    "yhat = model.predict([row])"
   ]
  },
  {
   "cell_type": "code",
   "execution_count": 29,
   "id": "25d9ee2c",
   "metadata": {},
   "outputs": [
    {
     "data": {
      "text/plain": [
       "array([810.37182262,   4.19320683,   6.60851842])"
      ]
     },
     "execution_count": 29,
     "metadata": {},
     "output_type": "execute_result"
    }
   ],
   "source": [
    "yhat[0]"
   ]
  },
  {
   "cell_type": "code",
   "execution_count": 30,
   "id": "3f65ddf6",
   "metadata": {
    "tags": []
   },
   "outputs": [],
   "source": [
    "row2 = [35.5,77.8,115.9,161.5,203.6,263.5,324.5,394.4,476.5,611.6]"
   ]
  },
  {
   "cell_type": "code",
   "execution_count": 31,
   "id": "e9ec44d0",
   "metadata": {},
   "outputs": [],
   "source": [
    "yhat1 = model.predict([row2])"
   ]
  },
  {
   "cell_type": "code",
   "execution_count": 32,
   "id": "b4501be3",
   "metadata": {},
   "outputs": [
    {
     "data": {
      "text/plain": [
       "array([807.21662484,   4.01419993,   6.83471705])"
      ]
     },
     "execution_count": 32,
     "metadata": {},
     "output_type": "execute_result"
    }
   ],
   "source": [
    "yhat1[0]"
   ]
  },
  {
   "cell_type": "code",
   "execution_count": 33,
   "id": "f9a633e6",
   "metadata": {},
   "outputs": [],
   "source": [
    "yhat2 = (80*yhat + 80*yhat1)/160"
   ]
  },
  {
   "cell_type": "code",
   "execution_count": 34,
   "id": "58d0e92a",
   "metadata": {},
   "outputs": [
    {
     "data": {
      "text/plain": [
       "array([[808.79422373,   4.10370338,   6.72161774]])"
      ]
     },
     "execution_count": 34,
     "metadata": {},
     "output_type": "execute_result"
    }
   ],
   "source": [
    "yhat2"
   ]
  },
  {
   "cell_type": "code",
   "execution_count": null,
   "id": "3753d9ca",
   "metadata": {},
   "outputs": [],
   "source": []
  },
  {
   "cell_type": "markdown",
   "id": "37e2ed06",
   "metadata": {},
   "source": [
    "## Functions start"
   ]
  },
  {
   "cell_type": "code",
   "execution_count": 26,
   "id": "ed028bad",
   "metadata": {},
   "outputs": [],
   "source": [
    "columns_required = ['Density (kg/m^3)', 'Butanes (mass%)', 'Heptanes (mass%)', 'Hexanes (mass%)', 'Octanes (mass%)','Nonanes (mass%)', '5% Off (deg. C)', '10% Off (deg. C)', '20% Off (deg. C)', '30% Off (deg. C)', '40% Off (deg. C)', '50% Off (deg. C)', '60% Off (deg. C)', '70% Off (deg. C)', '80% Off (deg. C)']\n",
    "final_data = pd.DataFrame(columns = columns_required)\n",
    "\n",
    "for filename in os.listdir(\"data\"):\n",
    "    if filename.endswith(\".CSV\"):\n",
    "        data = pd.read_csv(f\"data/{filename}\")\n",
    "        data = data[columns_required]\n",
    "        final_data = final_data.append(data, ignore_index = True)\n",
    "\n",
    "final_data = final_data.dropna()\n",
    "\n",
    "\n",
    "final_data.columns = ['Density', 'Butanes', 'Heptanes', 'Hexanes', 'Octanes', 'Nonanes','5%', '10%', '20%', '30%', '40%', '50%', '60%', '70%', '80%']\n",
    "# final_data['Decanes'] = final_data['Decanes'].astype(float)\n",
    "\n",
    "# final_data.info()"
   ]
  },
  {
   "cell_type": "code",
   "execution_count": 27,
   "id": "8f06160d",
   "metadata": {},
   "outputs": [],
   "source": [
    "X, y = final_data[['5%', '10%', '20%', '30%', '40%', '50%', '60%', '70%', '80%']], final_data[['Density', 'Butanes', 'Heptanes', 'Hexanes', 'Octanes', 'Nonanes']]"
   ]
  },
  {
   "cell_type": "code",
   "execution_count": 5,
   "id": "295982d3",
   "metadata": {},
   "outputs": [],
   "source": [
    "model = LinearRegression()"
   ]
  },
  {
   "cell_type": "code",
   "execution_count": 6,
   "id": "4a56bfad",
   "metadata": {},
   "outputs": [
    {
     "data": {
      "text/plain": [
       "LinearRegression()"
      ]
     },
     "execution_count": 6,
     "metadata": {},
     "output_type": "execute_result"
    }
   ],
   "source": [
    "model.fit(X, y)"
   ]
  },
  {
   "cell_type": "code",
   "execution_count": 7,
   "id": "31908b43",
   "metadata": {},
   "outputs": [],
   "source": [
    "cv = RepeatedKFold(n_splits=10, n_repeats=3, random_state=1)"
   ]
  },
  {
   "cell_type": "code",
   "execution_count": 8,
   "id": "e39192c1",
   "metadata": {},
   "outputs": [],
   "source": [
    "n_scores = cross_validate(model, X, y, cv=cv, n_jobs=-1, return_train_score = True)"
   ]
  },
  {
   "cell_type": "code",
   "execution_count": 200,
   "id": "d5b32074",
   "metadata": {},
   "outputs": [],
   "source": [
    "# Function Code Attribute: \n",
    "def mean_std_cross_val_scores(model, X_train, y_train, **kwargs):\n",
    "    \"\"\"\n",
    "    Returns mean and std of cross validation\n",
    "    \"\"\"\n",
    "    scores = cross_validate(model, \n",
    "                            X_train, y_train,scoring = 'neg_mean_squared_error'\n",
    "                            **kwargs)    \n",
    "    print(scores)\n",
    "    \n",
    "    mean_scores = pd.DataFrame(scores).mean()\n",
    "    std_scores = pd.DataFrame(scores).std()\n",
    "    out_col = []\n",
    "\n",
    "    for i in range(len(mean_scores)):  \n",
    "        out_col.append((f\"%0.3f (+/- %0.3f)\" % (mean_scores[i], std_scores[i])))\n",
    "\n",
    "    return pd.Series(data = out_col, index = mean_scores.index)"
   ]
  },
  {
   "cell_type": "code",
   "execution_count": 28,
   "id": "446034b5",
   "metadata": {},
   "outputs": [],
   "source": [
    "param_grid_dtree = {\"decisiontreeregressor__max_depth\": [5, 10, 15, 20]}\n",
    "param_grid_rf = {\"randomforestregressor__n_estimators\" : [4, 5, 8, 15, 30],\n",
    "                \"randomforestregressor__max_depth\" : [5, 8, 10, 13]}\n",
    "param_ridge = {}"
   ]
  },
  {
   "cell_type": "code",
   "execution_count": 29,
   "id": "f04c6fe7",
   "metadata": {},
   "outputs": [],
   "source": [
    "pipe_rf = make_pipeline(StandardScaler(), RandomForestRegressor(random_state=2))\n",
    "pipe_tree = make_pipeline(StandardScaler(), DecisionTreeRegressor())\n",
    "pipe_ridge = make_pipeline(StandardScaler(), Ridge())\n",
    "\n",
    "regressors = {\n",
    "    \"ridge\": [pipe_ridge, param_ridge],\n",
    "    \"random_forest\": [pipe_rf, param_grid_rf],\n",
    "    \"DTree\": [pipe_tree, param_grid_dtree]\n",
    "}"
   ]
  },
  {
   "cell_type": "code",
   "execution_count": 30,
   "id": "b0cbdde8",
   "metadata": {},
   "outputs": [
    {
     "name": "stdout",
     "output_type": "stream",
     "text": [
      "Best score from ridge grid search: -22.849\n",
      "Best set of params from ridge {}\n"
     ]
    },
    {
     "data": {
      "text/html": [
       "<div>\n",
       "<style scoped>\n",
       "    .dataframe tbody tr th:only-of-type {\n",
       "        vertical-align: middle;\n",
       "    }\n",
       "\n",
       "    .dataframe tbody tr th {\n",
       "        vertical-align: top;\n",
       "    }\n",
       "\n",
       "    .dataframe thead th {\n",
       "        text-align: right;\n",
       "    }\n",
       "</style>\n",
       "<table border=\"1\" class=\"dataframe\">\n",
       "  <thead>\n",
       "    <tr style=\"text-align: right;\">\n",
       "      <th></th>\n",
       "      <th>mean_fit_time</th>\n",
       "      <th>mean_score_time</th>\n",
       "      <th>params</th>\n",
       "      <th>mean_train_neg_mean_squared_error</th>\n",
       "      <th>mean_test_neg_mean_squared_error</th>\n",
       "    </tr>\n",
       "  </thead>\n",
       "  <tbody>\n",
       "    <tr>\n",
       "      <th>0</th>\n",
       "      <td>0.656611</td>\n",
       "      <td>0.006442</td>\n",
       "      <td>{}</td>\n",
       "      <td>-11.748727</td>\n",
       "      <td>-22.848682</td>\n",
       "    </tr>\n",
       "  </tbody>\n",
       "</table>\n",
       "</div>"
      ],
      "text/plain": [
       "   mean_fit_time  mean_score_time params  mean_train_neg_mean_squared_error  \\\n",
       "0       0.656611         0.006442     {}                         -11.748727   \n",
       "\n",
       "   mean_test_neg_mean_squared_error  \n",
       "0                        -22.848682  "
      ]
     },
     "metadata": {},
     "output_type": "display_data"
    },
    {
     "name": "stdout",
     "output_type": "stream",
     "text": [
      "Best score from random_forest grid search: -8.692\n",
      "Best set of params from random_forest {'randomforestregressor__max_depth': 10, 'randomforestregressor__n_estimators': 5}\n"
     ]
    },
    {
     "data": {
      "text/html": [
       "<div>\n",
       "<style scoped>\n",
       "    .dataframe tbody tr th:only-of-type {\n",
       "        vertical-align: middle;\n",
       "    }\n",
       "\n",
       "    .dataframe tbody tr th {\n",
       "        vertical-align: top;\n",
       "    }\n",
       "\n",
       "    .dataframe thead th {\n",
       "        text-align: right;\n",
       "    }\n",
       "</style>\n",
       "<table border=\"1\" class=\"dataframe\">\n",
       "  <thead>\n",
       "    <tr style=\"text-align: right;\">\n",
       "      <th></th>\n",
       "      <th>mean_fit_time</th>\n",
       "      <th>mean_score_time</th>\n",
       "      <th>params</th>\n",
       "      <th>mean_train_neg_mean_squared_error</th>\n",
       "      <th>mean_test_neg_mean_squared_error</th>\n",
       "    </tr>\n",
       "  </thead>\n",
       "  <tbody>\n",
       "    <tr>\n",
       "      <th>0</th>\n",
       "      <td>0.031203</td>\n",
       "      <td>0.011516</td>\n",
       "      <td>{'randomforestregressor__max_depth': 5, 'rando...</td>\n",
       "      <td>-2.638689</td>\n",
       "      <td>-11.049551</td>\n",
       "    </tr>\n",
       "    <tr>\n",
       "      <th>1</th>\n",
       "      <td>0.035345</td>\n",
       "      <td>0.008417</td>\n",
       "      <td>{'randomforestregressor__max_depth': 5, 'rando...</td>\n",
       "      <td>-2.265859</td>\n",
       "      <td>-9.096219</td>\n",
       "    </tr>\n",
       "    <tr>\n",
       "      <th>2</th>\n",
       "      <td>0.043755</td>\n",
       "      <td>0.011449</td>\n",
       "      <td>{'randomforestregressor__max_depth': 5, 'rando...</td>\n",
       "      <td>-1.983180</td>\n",
       "      <td>-10.418235</td>\n",
       "    </tr>\n",
       "    <tr>\n",
       "      <th>3</th>\n",
       "      <td>0.070233</td>\n",
       "      <td>0.010241</td>\n",
       "      <td>{'randomforestregressor__max_depth': 5, 'rando...</td>\n",
       "      <td>-1.856992</td>\n",
       "      <td>-10.061001</td>\n",
       "    </tr>\n",
       "    <tr>\n",
       "      <th>4</th>\n",
       "      <td>0.121882</td>\n",
       "      <td>0.014246</td>\n",
       "      <td>{'randomforestregressor__max_depth': 5, 'rando...</td>\n",
       "      <td>-1.640248</td>\n",
       "      <td>-9.469581</td>\n",
       "    </tr>\n",
       "    <tr>\n",
       "      <th>5</th>\n",
       "      <td>0.031599</td>\n",
       "      <td>0.008066</td>\n",
       "      <td>{'randomforestregressor__max_depth': 8, 'rando...</td>\n",
       "      <td>-1.968588</td>\n",
       "      <td>-10.607329</td>\n",
       "    </tr>\n",
       "    <tr>\n",
       "      <th>6</th>\n",
       "      <td>0.036133</td>\n",
       "      <td>0.009227</td>\n",
       "      <td>{'randomforestregressor__max_depth': 8, 'rando...</td>\n",
       "      <td>-1.543928</td>\n",
       "      <td>-8.764359</td>\n",
       "    </tr>\n",
       "    <tr>\n",
       "      <th>7</th>\n",
       "      <td>0.048636</td>\n",
       "      <td>0.008893</td>\n",
       "      <td>{'randomforestregressor__max_depth': 8, 'rando...</td>\n",
       "      <td>-1.217961</td>\n",
       "      <td>-10.158635</td>\n",
       "    </tr>\n",
       "    <tr>\n",
       "      <th>8</th>\n",
       "      <td>0.076396</td>\n",
       "      <td>0.014228</td>\n",
       "      <td>{'randomforestregressor__max_depth': 8, 'rando...</td>\n",
       "      <td>-1.057382</td>\n",
       "      <td>-9.858074</td>\n",
       "    </tr>\n",
       "    <tr>\n",
       "      <th>9</th>\n",
       "      <td>0.138149</td>\n",
       "      <td>0.017062</td>\n",
       "      <td>{'randomforestregressor__max_depth': 8, 'rando...</td>\n",
       "      <td>-0.815616</td>\n",
       "      <td>-9.537070</td>\n",
       "    </tr>\n",
       "    <tr>\n",
       "      <th>10</th>\n",
       "      <td>0.032319</td>\n",
       "      <td>0.008529</td>\n",
       "      <td>{'randomforestregressor__max_depth': 10, 'rand...</td>\n",
       "      <td>-1.801635</td>\n",
       "      <td>-10.452165</td>\n",
       "    </tr>\n",
       "    <tr>\n",
       "      <th>11</th>\n",
       "      <td>0.034079</td>\n",
       "      <td>0.009305</td>\n",
       "      <td>{'randomforestregressor__max_depth': 10, 'rand...</td>\n",
       "      <td>-1.393418</td>\n",
       "      <td>-8.692040</td>\n",
       "    </tr>\n",
       "    <tr>\n",
       "      <th>12</th>\n",
       "      <td>0.048492</td>\n",
       "      <td>0.009832</td>\n",
       "      <td>{'randomforestregressor__max_depth': 10, 'rand...</td>\n",
       "      <td>-1.063674</td>\n",
       "      <td>-10.034201</td>\n",
       "    </tr>\n",
       "    <tr>\n",
       "      <th>13</th>\n",
       "      <td>0.079947</td>\n",
       "      <td>0.011489</td>\n",
       "      <td>{'randomforestregressor__max_depth': 10, 'rand...</td>\n",
       "      <td>-0.882265</td>\n",
       "      <td>-9.852836</td>\n",
       "    </tr>\n",
       "    <tr>\n",
       "      <th>14</th>\n",
       "      <td>0.139309</td>\n",
       "      <td>0.014120</td>\n",
       "      <td>{'randomforestregressor__max_depth': 10, 'rand...</td>\n",
       "      <td>-0.650494</td>\n",
       "      <td>-9.502588</td>\n",
       "    </tr>\n",
       "    <tr>\n",
       "      <th>15</th>\n",
       "      <td>0.029970</td>\n",
       "      <td>0.008224</td>\n",
       "      <td>{'randomforestregressor__max_depth': 13, 'rand...</td>\n",
       "      <td>-1.753363</td>\n",
       "      <td>-10.762587</td>\n",
       "    </tr>\n",
       "    <tr>\n",
       "      <th>16</th>\n",
       "      <td>0.036222</td>\n",
       "      <td>0.008216</td>\n",
       "      <td>{'randomforestregressor__max_depth': 13, 'rand...</td>\n",
       "      <td>-1.347727</td>\n",
       "      <td>-8.847246</td>\n",
       "    </tr>\n",
       "    <tr>\n",
       "      <th>17</th>\n",
       "      <td>0.043566</td>\n",
       "      <td>0.007987</td>\n",
       "      <td>{'randomforestregressor__max_depth': 13, 'rand...</td>\n",
       "      <td>-1.018853</td>\n",
       "      <td>-10.246140</td>\n",
       "    </tr>\n",
       "    <tr>\n",
       "      <th>18</th>\n",
       "      <td>0.064655</td>\n",
       "      <td>0.008178</td>\n",
       "      <td>{'randomforestregressor__max_depth': 13, 'rand...</td>\n",
       "      <td>-0.828164</td>\n",
       "      <td>-9.946384</td>\n",
       "    </tr>\n",
       "    <tr>\n",
       "      <th>19</th>\n",
       "      <td>0.092985</td>\n",
       "      <td>0.008556</td>\n",
       "      <td>{'randomforestregressor__max_depth': 13, 'rand...</td>\n",
       "      <td>-0.600597</td>\n",
       "      <td>-9.523768</td>\n",
       "    </tr>\n",
       "  </tbody>\n",
       "</table>\n",
       "</div>"
      ],
      "text/plain": [
       "    mean_fit_time  mean_score_time  \\\n",
       "0        0.031203         0.011516   \n",
       "1        0.035345         0.008417   \n",
       "2        0.043755         0.011449   \n",
       "3        0.070233         0.010241   \n",
       "4        0.121882         0.014246   \n",
       "5        0.031599         0.008066   \n",
       "6        0.036133         0.009227   \n",
       "7        0.048636         0.008893   \n",
       "8        0.076396         0.014228   \n",
       "9        0.138149         0.017062   \n",
       "10       0.032319         0.008529   \n",
       "11       0.034079         0.009305   \n",
       "12       0.048492         0.009832   \n",
       "13       0.079947         0.011489   \n",
       "14       0.139309         0.014120   \n",
       "15       0.029970         0.008224   \n",
       "16       0.036222         0.008216   \n",
       "17       0.043566         0.007987   \n",
       "18       0.064655         0.008178   \n",
       "19       0.092985         0.008556   \n",
       "\n",
       "                                               params  \\\n",
       "0   {'randomforestregressor__max_depth': 5, 'rando...   \n",
       "1   {'randomforestregressor__max_depth': 5, 'rando...   \n",
       "2   {'randomforestregressor__max_depth': 5, 'rando...   \n",
       "3   {'randomforestregressor__max_depth': 5, 'rando...   \n",
       "4   {'randomforestregressor__max_depth': 5, 'rando...   \n",
       "5   {'randomforestregressor__max_depth': 8, 'rando...   \n",
       "6   {'randomforestregressor__max_depth': 8, 'rando...   \n",
       "7   {'randomforestregressor__max_depth': 8, 'rando...   \n",
       "8   {'randomforestregressor__max_depth': 8, 'rando...   \n",
       "9   {'randomforestregressor__max_depth': 8, 'rando...   \n",
       "10  {'randomforestregressor__max_depth': 10, 'rand...   \n",
       "11  {'randomforestregressor__max_depth': 10, 'rand...   \n",
       "12  {'randomforestregressor__max_depth': 10, 'rand...   \n",
       "13  {'randomforestregressor__max_depth': 10, 'rand...   \n",
       "14  {'randomforestregressor__max_depth': 10, 'rand...   \n",
       "15  {'randomforestregressor__max_depth': 13, 'rand...   \n",
       "16  {'randomforestregressor__max_depth': 13, 'rand...   \n",
       "17  {'randomforestregressor__max_depth': 13, 'rand...   \n",
       "18  {'randomforestregressor__max_depth': 13, 'rand...   \n",
       "19  {'randomforestregressor__max_depth': 13, 'rand...   \n",
       "\n",
       "    mean_train_neg_mean_squared_error  mean_test_neg_mean_squared_error  \n",
       "0                           -2.638689                        -11.049551  \n",
       "1                           -2.265859                         -9.096219  \n",
       "2                           -1.983180                        -10.418235  \n",
       "3                           -1.856992                        -10.061001  \n",
       "4                           -1.640248                         -9.469581  \n",
       "5                           -1.968588                        -10.607329  \n",
       "6                           -1.543928                         -8.764359  \n",
       "7                           -1.217961                        -10.158635  \n",
       "8                           -1.057382                         -9.858074  \n",
       "9                           -0.815616                         -9.537070  \n",
       "10                          -1.801635                        -10.452165  \n",
       "11                          -1.393418                         -8.692040  \n",
       "12                          -1.063674                        -10.034201  \n",
       "13                          -0.882265                         -9.852836  \n",
       "14                          -0.650494                         -9.502588  \n",
       "15                          -1.753363                        -10.762587  \n",
       "16                          -1.347727                         -8.847246  \n",
       "17                          -1.018853                        -10.246140  \n",
       "18                          -0.828164                         -9.946384  \n",
       "19                          -0.600597                         -9.523768  "
      ]
     },
     "metadata": {},
     "output_type": "display_data"
    },
    {
     "name": "stdout",
     "output_type": "stream",
     "text": [
      "Best score from DTree grid search: -20.555\n",
      "Best set of params from DTree {'decisiontreeregressor__max_depth': 10}\n"
     ]
    },
    {
     "data": {
      "text/html": [
       "<div>\n",
       "<style scoped>\n",
       "    .dataframe tbody tr th:only-of-type {\n",
       "        vertical-align: middle;\n",
       "    }\n",
       "\n",
       "    .dataframe tbody tr th {\n",
       "        vertical-align: top;\n",
       "    }\n",
       "\n",
       "    .dataframe thead th {\n",
       "        text-align: right;\n",
       "    }\n",
       "</style>\n",
       "<table border=\"1\" class=\"dataframe\">\n",
       "  <thead>\n",
       "    <tr style=\"text-align: right;\">\n",
       "      <th></th>\n",
       "      <th>mean_fit_time</th>\n",
       "      <th>mean_score_time</th>\n",
       "      <th>params</th>\n",
       "      <th>mean_train_neg_mean_squared_error</th>\n",
       "      <th>mean_test_neg_mean_squared_error</th>\n",
       "    </tr>\n",
       "  </thead>\n",
       "  <tbody>\n",
       "    <tr>\n",
       "      <th>0</th>\n",
       "      <td>0.029608</td>\n",
       "      <td>0.010607</td>\n",
       "      <td>{'decisiontreeregressor__max_depth': 5}</td>\n",
       "      <td>-1.928085</td>\n",
       "      <td>-30.475399</td>\n",
       "    </tr>\n",
       "    <tr>\n",
       "      <th>1</th>\n",
       "      <td>0.023828</td>\n",
       "      <td>0.008058</td>\n",
       "      <td>{'decisiontreeregressor__max_depth': 10}</td>\n",
       "      <td>-0.249789</td>\n",
       "      <td>-20.554715</td>\n",
       "    </tr>\n",
       "    <tr>\n",
       "      <th>2</th>\n",
       "      <td>0.015585</td>\n",
       "      <td>0.008117</td>\n",
       "      <td>{'decisiontreeregressor__max_depth': 15}</td>\n",
       "      <td>-0.007885</td>\n",
       "      <td>-31.302707</td>\n",
       "    </tr>\n",
       "    <tr>\n",
       "      <th>3</th>\n",
       "      <td>0.016187</td>\n",
       "      <td>0.006039</td>\n",
       "      <td>{'decisiontreeregressor__max_depth': 20}</td>\n",
       "      <td>0.000000</td>\n",
       "      <td>-23.939126</td>\n",
       "    </tr>\n",
       "  </tbody>\n",
       "</table>\n",
       "</div>"
      ],
      "text/plain": [
       "   mean_fit_time  mean_score_time                                    params  \\\n",
       "0       0.029608         0.010607   {'decisiontreeregressor__max_depth': 5}   \n",
       "1       0.023828         0.008058  {'decisiontreeregressor__max_depth': 10}   \n",
       "2       0.015585         0.008117  {'decisiontreeregressor__max_depth': 15}   \n",
       "3       0.016187         0.006039  {'decisiontreeregressor__max_depth': 20}   \n",
       "\n",
       "   mean_train_neg_mean_squared_error  mean_test_neg_mean_squared_error  \n",
       "0                          -1.928085                        -30.475399  \n",
       "1                          -0.249789                        -20.554715  \n",
       "2                          -0.007885                        -31.302707  \n",
       "3                           0.000000                        -23.939126  "
      ]
     },
     "metadata": {},
     "output_type": "display_data"
    }
   ],
   "source": [
    "for name, model in regressors.items():  \n",
    "    grid_search = GridSearchCV(model[0], model[1], cv=5, n_jobs=-1, return_train_score=True, refit = 'neg_mean_squared_error', scoring = ['neg_mean_squared_error'])\n",
    "    grid_search.fit(X, y)\n",
    "    print(f\"Best score from {name} grid search: %.3f\" % grid_search.best_score_)\n",
    "    print(f\"Best set of params from {name}\", grid_search.best_params_)\n",
    "    metrics = pd.DataFrame(grid_search.cv_results_)\n",
    "    display(metrics[['mean_fit_time', 'mean_score_time', 'params', 'mean_train_neg_mean_squared_error', 'mean_test_neg_mean_squared_error']])\n"
   ]
  },
  {
   "cell_type": "code",
   "execution_count": 188,
   "id": "cba6cddc",
   "metadata": {},
   "outputs": [],
   "source": [
    "final_model = Ridge()"
   ]
  },
  {
   "cell_type": "code",
   "execution_count": 189,
   "id": "be50a5ca",
   "metadata": {},
   "outputs": [
    {
     "data": {
      "text/plain": [
       "Ridge()"
      ]
     },
     "execution_count": 189,
     "metadata": {},
     "output_type": "execute_result"
    }
   ],
   "source": [
    "final_model.fit(X, y)"
   ]
  },
  {
   "cell_type": "code",
   "execution_count": 190,
   "id": "d748d206",
   "metadata": {},
   "outputs": [
    {
     "data": {
      "text/plain": [
       "array([[4.12850124, 6.77486717, 5.39617755, 7.1291681 , 5.72197618,\n",
       "        2.83000047]])"
      ]
     },
     "execution_count": 190,
     "metadata": {},
     "output_type": "execute_result"
    }
   ],
   "source": [
    "liquid_1 = final_model.predict([[56.6, 101.0, 144.5, 188.0, 240.6, 298.8, 356.2, 422.4, 512.4]])\n",
    "liquid_1"
   ]
  },
  {
   "cell_type": "code",
   "execution_count": 191,
   "id": "f8b55cf4",
   "metadata": {},
   "outputs": [],
   "source": [
    "liquid_2 = final_model.predict([[42.2, 83.6, 115.5, 160.1, 202.7, 257.6, 313.7, 378.5, 453.2]])"
   ]
  },
  {
   "cell_type": "code",
   "execution_count": 192,
   "id": "eeb8a2c1",
   "metadata": {},
   "outputs": [
    {
     "data": {
      "text/plain": [
       "array([[4.08955214, 7.2342086 , 6.03807212, 7.42157585, 5.93386589,\n",
       "        2.98997025]])"
      ]
     },
     "execution_count": 192,
     "metadata": {},
     "output_type": "execute_result"
    }
   ],
   "source": [
    "yhat2 = (80*liquid_1 + 80*liquid_2)/160\n",
    "yhat2"
   ]
  },
  {
   "cell_type": "code",
   "execution_count": 193,
   "id": "77d7bb86",
   "metadata": {},
   "outputs": [],
   "source": [
    "model2 = LinearRegression()"
   ]
  },
  {
   "cell_type": "code",
   "execution_count": 194,
   "id": "5841a2f6",
   "metadata": {},
   "outputs": [
    {
     "data": {
      "text/plain": [
       "LinearRegression()"
      ]
     },
     "execution_count": 194,
     "metadata": {},
     "output_type": "execute_result"
    }
   ],
   "source": [
    "model2.fit(y, X)"
   ]
  },
  {
   "cell_type": "code",
   "execution_count": 155,
   "id": "e94a4046",
   "metadata": {},
   "outputs": [],
   "source": [
    "cv = RepeatedKFold(n_splits=10, n_repeats=3, random_state=1)"
   ]
  },
  {
   "cell_type": "code",
   "execution_count": 156,
   "id": "f48dd3bf",
   "metadata": {},
   "outputs": [],
   "source": [
    "n_scores = cross_validate(model2, y, X, cv=cv, n_jobs=-1)"
   ]
  },
  {
   "cell_type": "code",
   "execution_count": 157,
   "id": "6e6f0885",
   "metadata": {},
   "outputs": [
    {
     "data": {
      "text/plain": [
       "{'fit_time': array([0.00897002, 0.00897026, 0.01380682, 0.01031113, 0.00981903,\n",
       "        0.00809288, 0.00949216, 0.01027465, 0.0108161 , 0.00806618,\n",
       "        0.00807571, 0.01051474, 0.00673294, 0.0079999 , 0.01540589,\n",
       "        0.00790811, 0.00929785, 0.00803494, 0.00953698, 0.00862503,\n",
       "        0.00789404, 0.00887775, 0.01219821, 0.00808406, 0.00798011,\n",
       "        0.00795507, 0.00900722, 0.00796199, 0.00799298, 0.00792408]),\n",
       " 'score_time': array([0.00650787, 0.00677776, 0.00669789, 0.00689173, 0.0063231 ,\n",
       "        0.00663304, 0.00665689, 0.0070641 , 0.0126121 , 0.00642681,\n",
       "        0.00661397, 0.00657415, 0.00634885, 0.00665712, 0.00685811,\n",
       "        0.00632811, 0.00876641, 0.00658393, 0.00632024, 0.00674891,\n",
       "        0.00888491, 0.00715899, 0.0064888 , 0.00641608, 0.00698185,\n",
       "        0.00722504, 0.00627398, 0.00628495, 0.00585604, 0.004498  ]),\n",
       " 'test_score': array([0.85819986, 0.81201396, 0.7945593 , 0.8590999 , 0.84516406,\n",
       "        0.6761601 , 0.88042296, 0.82840952, 0.88388099, 0.89814187,\n",
       "        0.85124594, 0.86813651, 0.73356754, 0.84970323, 0.8182492 ,\n",
       "        0.84780543, 0.89255575, 0.84519009, 0.82627674, 0.86471391,\n",
       "        0.86953984, 0.64889141, 0.88418659, 0.78882471, 0.86779448,\n",
       "        0.89194381, 0.8440834 , 0.83523913, 0.75280297, 0.83890491])}"
      ]
     },
     "execution_count": 157,
     "metadata": {},
     "output_type": "execute_result"
    }
   ],
   "source": [
    "n_scores"
   ]
  },
  {
   "cell_type": "code",
   "execution_count": 163,
   "id": "e6b73290",
   "metadata": {},
   "outputs": [
    {
     "data": {
      "text/plain": [
       "array([[ 45.07427094,  81.27973579, 123.28345484, 174.56318879,\n",
       "        226.55160862, 282.44018151, 339.80504647, 404.53651119,\n",
       "        480.60681055]])"
      ]
     },
     "execution_count": 163,
     "metadata": {},
     "output_type": "execute_result"
    }
   ],
   "source": [
    "model2.predict(yhat2)"
   ]
  },
  {
   "cell_type": "code",
   "execution_count": 31,
   "id": "44b79ff4",
   "metadata": {},
   "outputs": [
    {
     "name": "stdout",
     "output_type": "stream",
     "text": [
      "Best score from linear grid search: -502.054\n",
      "Best set of params from linear {}\n"
     ]
    },
    {
     "data": {
      "text/html": [
       "<div>\n",
       "<style scoped>\n",
       "    .dataframe tbody tr th:only-of-type {\n",
       "        vertical-align: middle;\n",
       "    }\n",
       "\n",
       "    .dataframe tbody tr th {\n",
       "        vertical-align: top;\n",
       "    }\n",
       "\n",
       "    .dataframe thead th {\n",
       "        text-align: right;\n",
       "    }\n",
       "</style>\n",
       "<table border=\"1\" class=\"dataframe\">\n",
       "  <thead>\n",
       "    <tr style=\"text-align: right;\">\n",
       "      <th></th>\n",
       "      <th>mean_fit_time</th>\n",
       "      <th>mean_score_time</th>\n",
       "      <th>params</th>\n",
       "      <th>mean_train_neg_mean_squared_error</th>\n",
       "      <th>mean_test_neg_mean_squared_error</th>\n",
       "    </tr>\n",
       "  </thead>\n",
       "  <tbody>\n",
       "    <tr>\n",
       "      <th>0</th>\n",
       "      <td>0.028217</td>\n",
       "      <td>0.010883</td>\n",
       "      <td>{}</td>\n",
       "      <td>-331.809058</td>\n",
       "      <td>-502.053516</td>\n",
       "    </tr>\n",
       "  </tbody>\n",
       "</table>\n",
       "</div>"
      ],
      "text/plain": [
       "   mean_fit_time  mean_score_time params  mean_train_neg_mean_squared_error  \\\n",
       "0       0.028217         0.010883     {}                        -331.809058   \n",
       "\n",
       "   mean_test_neg_mean_squared_error  \n",
       "0                       -502.053516  "
      ]
     },
     "metadata": {},
     "output_type": "display_data"
    },
    {
     "name": "stdout",
     "output_type": "stream",
     "text": [
      "Best score from ridge grid search: -505.161\n",
      "Best set of params from ridge {}\n"
     ]
    },
    {
     "data": {
      "text/html": [
       "<div>\n",
       "<style scoped>\n",
       "    .dataframe tbody tr th:only-of-type {\n",
       "        vertical-align: middle;\n",
       "    }\n",
       "\n",
       "    .dataframe tbody tr th {\n",
       "        vertical-align: top;\n",
       "    }\n",
       "\n",
       "    .dataframe thead th {\n",
       "        text-align: right;\n",
       "    }\n",
       "</style>\n",
       "<table border=\"1\" class=\"dataframe\">\n",
       "  <thead>\n",
       "    <tr style=\"text-align: right;\">\n",
       "      <th></th>\n",
       "      <th>mean_fit_time</th>\n",
       "      <th>mean_score_time</th>\n",
       "      <th>params</th>\n",
       "      <th>mean_train_neg_mean_squared_error</th>\n",
       "      <th>mean_test_neg_mean_squared_error</th>\n",
       "    </tr>\n",
       "  </thead>\n",
       "  <tbody>\n",
       "    <tr>\n",
       "      <th>0</th>\n",
       "      <td>0.020952</td>\n",
       "      <td>0.011167</td>\n",
       "      <td>{}</td>\n",
       "      <td>-333.084503</td>\n",
       "      <td>-505.160743</td>\n",
       "    </tr>\n",
       "  </tbody>\n",
       "</table>\n",
       "</div>"
      ],
      "text/plain": [
       "   mean_fit_time  mean_score_time params  mean_train_neg_mean_squared_error  \\\n",
       "0       0.020952         0.011167     {}                        -333.084503   \n",
       "\n",
       "   mean_test_neg_mean_squared_error  \n",
       "0                       -505.160743  "
      ]
     },
     "metadata": {},
     "output_type": "display_data"
    },
    {
     "name": "stdout",
     "output_type": "stream",
     "text": [
      "Best score from random_forest grid search: -403.435\n",
      "Best set of params from random_forest {'randomforestregressor__max_depth': 17, 'randomforestregressor__n_estimators': 60}\n"
     ]
    },
    {
     "data": {
      "text/html": [
       "<div>\n",
       "<style scoped>\n",
       "    .dataframe tbody tr th:only-of-type {\n",
       "        vertical-align: middle;\n",
       "    }\n",
       "\n",
       "    .dataframe tbody tr th {\n",
       "        vertical-align: top;\n",
       "    }\n",
       "\n",
       "    .dataframe thead th {\n",
       "        text-align: right;\n",
       "    }\n",
       "</style>\n",
       "<table border=\"1\" class=\"dataframe\">\n",
       "  <thead>\n",
       "    <tr style=\"text-align: right;\">\n",
       "      <th></th>\n",
       "      <th>mean_fit_time</th>\n",
       "      <th>mean_score_time</th>\n",
       "      <th>params</th>\n",
       "      <th>mean_train_neg_mean_squared_error</th>\n",
       "      <th>mean_test_neg_mean_squared_error</th>\n",
       "    </tr>\n",
       "  </thead>\n",
       "  <tbody>\n",
       "    <tr>\n",
       "      <th>0</th>\n",
       "      <td>0.051573</td>\n",
       "      <td>0.013735</td>\n",
       "      <td>{'randomforestregressor__max_depth': 5, 'rando...</td>\n",
       "      <td>-167.931996</td>\n",
       "      <td>-410.463159</td>\n",
       "    </tr>\n",
       "    <tr>\n",
       "      <th>1</th>\n",
       "      <td>0.058824</td>\n",
       "      <td>0.011470</td>\n",
       "      <td>{'randomforestregressor__max_depth': 5, 'rando...</td>\n",
       "      <td>-158.425217</td>\n",
       "      <td>-403.865969</td>\n",
       "    </tr>\n",
       "    <tr>\n",
       "      <th>2</th>\n",
       "      <td>0.098923</td>\n",
       "      <td>0.013229</td>\n",
       "      <td>{'randomforestregressor__max_depth': 5, 'rando...</td>\n",
       "      <td>-156.324299</td>\n",
       "      <td>-403.473723</td>\n",
       "    </tr>\n",
       "    <tr>\n",
       "      <th>3</th>\n",
       "      <td>0.191792</td>\n",
       "      <td>0.017126</td>\n",
       "      <td>{'randomforestregressor__max_depth': 5, 'rando...</td>\n",
       "      <td>-154.352223</td>\n",
       "      <td>-406.888202</td>\n",
       "    </tr>\n",
       "    <tr>\n",
       "      <th>4</th>\n",
       "      <td>0.232873</td>\n",
       "      <td>0.019024</td>\n",
       "      <td>{'randomforestregressor__max_depth': 5, 'rando...</td>\n",
       "      <td>-154.310716</td>\n",
       "      <td>-407.318910</td>\n",
       "    </tr>\n",
       "    <tr>\n",
       "      <th>5</th>\n",
       "      <td>0.035075</td>\n",
       "      <td>0.008845</td>\n",
       "      <td>{'randomforestregressor__max_depth': 10, 'rand...</td>\n",
       "      <td>-70.490213</td>\n",
       "      <td>-445.862678</td>\n",
       "    </tr>\n",
       "    <tr>\n",
       "      <th>6</th>\n",
       "      <td>0.056884</td>\n",
       "      <td>0.011041</td>\n",
       "      <td>{'randomforestregressor__max_depth': 10, 'rand...</td>\n",
       "      <td>-54.538793</td>\n",
       "      <td>-433.745514</td>\n",
       "    </tr>\n",
       "    <tr>\n",
       "      <th>7</th>\n",
       "      <td>0.106699</td>\n",
       "      <td>0.013058</td>\n",
       "      <td>{'randomforestregressor__max_depth': 10, 'rand...</td>\n",
       "      <td>-47.954009</td>\n",
       "      <td>-415.469686</td>\n",
       "    </tr>\n",
       "    <tr>\n",
       "      <th>8</th>\n",
       "      <td>0.238440</td>\n",
       "      <td>0.018937</td>\n",
       "      <td>{'randomforestregressor__max_depth': 10, 'rand...</td>\n",
       "      <td>-45.163632</td>\n",
       "      <td>-411.680952</td>\n",
       "    </tr>\n",
       "    <tr>\n",
       "      <th>9</th>\n",
       "      <td>0.279735</td>\n",
       "      <td>0.018973</td>\n",
       "      <td>{'randomforestregressor__max_depth': 10, 'rand...</td>\n",
       "      <td>-45.046828</td>\n",
       "      <td>-405.995168</td>\n",
       "    </tr>\n",
       "    <tr>\n",
       "      <th>10</th>\n",
       "      <td>0.042373</td>\n",
       "      <td>0.009382</td>\n",
       "      <td>{'randomforestregressor__max_depth': 15, 'rand...</td>\n",
       "      <td>-63.621091</td>\n",
       "      <td>-464.295923</td>\n",
       "    </tr>\n",
       "    <tr>\n",
       "      <th>11</th>\n",
       "      <td>0.057796</td>\n",
       "      <td>0.009325</td>\n",
       "      <td>{'randomforestregressor__max_depth': 15, 'rand...</td>\n",
       "      <td>-45.949605</td>\n",
       "      <td>-431.681531</td>\n",
       "    </tr>\n",
       "    <tr>\n",
       "      <th>12</th>\n",
       "      <td>0.097662</td>\n",
       "      <td>0.011111</td>\n",
       "      <td>{'randomforestregressor__max_depth': 15, 'rand...</td>\n",
       "      <td>-39.003584</td>\n",
       "      <td>-410.565795</td>\n",
       "    </tr>\n",
       "    <tr>\n",
       "      <th>13</th>\n",
       "      <td>0.228486</td>\n",
       "      <td>0.017286</td>\n",
       "      <td>{'randomforestregressor__max_depth': 15, 'rand...</td>\n",
       "      <td>-36.435634</td>\n",
       "      <td>-408.978156</td>\n",
       "    </tr>\n",
       "    <tr>\n",
       "      <th>14</th>\n",
       "      <td>0.263024</td>\n",
       "      <td>0.018421</td>\n",
       "      <td>{'randomforestregressor__max_depth': 15, 'rand...</td>\n",
       "      <td>-36.331217</td>\n",
       "      <td>-404.862055</td>\n",
       "    </tr>\n",
       "    <tr>\n",
       "      <th>15</th>\n",
       "      <td>0.034956</td>\n",
       "      <td>0.008133</td>\n",
       "      <td>{'randomforestregressor__max_depth': 17, 'rand...</td>\n",
       "      <td>-63.143023</td>\n",
       "      <td>-463.962150</td>\n",
       "    </tr>\n",
       "    <tr>\n",
       "      <th>16</th>\n",
       "      <td>0.058014</td>\n",
       "      <td>0.010519</td>\n",
       "      <td>{'randomforestregressor__max_depth': 17, 'rand...</td>\n",
       "      <td>-45.731872</td>\n",
       "      <td>-432.668271</td>\n",
       "    </tr>\n",
       "    <tr>\n",
       "      <th>17</th>\n",
       "      <td>0.097886</td>\n",
       "      <td>0.011308</td>\n",
       "      <td>{'randomforestregressor__max_depth': 17, 'rand...</td>\n",
       "      <td>-38.787556</td>\n",
       "      <td>-411.889441</td>\n",
       "    </tr>\n",
       "    <tr>\n",
       "      <th>18</th>\n",
       "      <td>0.219596</td>\n",
       "      <td>0.015591</td>\n",
       "      <td>{'randomforestregressor__max_depth': 17, 'rand...</td>\n",
       "      <td>-36.259942</td>\n",
       "      <td>-408.261444</td>\n",
       "    </tr>\n",
       "    <tr>\n",
       "      <th>19</th>\n",
       "      <td>0.226543</td>\n",
       "      <td>0.014150</td>\n",
       "      <td>{'randomforestregressor__max_depth': 17, 'rand...</td>\n",
       "      <td>-36.141273</td>\n",
       "      <td>-403.434674</td>\n",
       "    </tr>\n",
       "  </tbody>\n",
       "</table>\n",
       "</div>"
      ],
      "text/plain": [
       "    mean_fit_time  mean_score_time  \\\n",
       "0        0.051573         0.013735   \n",
       "1        0.058824         0.011470   \n",
       "2        0.098923         0.013229   \n",
       "3        0.191792         0.017126   \n",
       "4        0.232873         0.019024   \n",
       "5        0.035075         0.008845   \n",
       "6        0.056884         0.011041   \n",
       "7        0.106699         0.013058   \n",
       "8        0.238440         0.018937   \n",
       "9        0.279735         0.018973   \n",
       "10       0.042373         0.009382   \n",
       "11       0.057796         0.009325   \n",
       "12       0.097662         0.011111   \n",
       "13       0.228486         0.017286   \n",
       "14       0.263024         0.018421   \n",
       "15       0.034956         0.008133   \n",
       "16       0.058014         0.010519   \n",
       "17       0.097886         0.011308   \n",
       "18       0.219596         0.015591   \n",
       "19       0.226543         0.014150   \n",
       "\n",
       "                                               params  \\\n",
       "0   {'randomforestregressor__max_depth': 5, 'rando...   \n",
       "1   {'randomforestregressor__max_depth': 5, 'rando...   \n",
       "2   {'randomforestregressor__max_depth': 5, 'rando...   \n",
       "3   {'randomforestregressor__max_depth': 5, 'rando...   \n",
       "4   {'randomforestregressor__max_depth': 5, 'rando...   \n",
       "5   {'randomforestregressor__max_depth': 10, 'rand...   \n",
       "6   {'randomforestregressor__max_depth': 10, 'rand...   \n",
       "7   {'randomforestregressor__max_depth': 10, 'rand...   \n",
       "8   {'randomforestregressor__max_depth': 10, 'rand...   \n",
       "9   {'randomforestregressor__max_depth': 10, 'rand...   \n",
       "10  {'randomforestregressor__max_depth': 15, 'rand...   \n",
       "11  {'randomforestregressor__max_depth': 15, 'rand...   \n",
       "12  {'randomforestregressor__max_depth': 15, 'rand...   \n",
       "13  {'randomforestregressor__max_depth': 15, 'rand...   \n",
       "14  {'randomforestregressor__max_depth': 15, 'rand...   \n",
       "15  {'randomforestregressor__max_depth': 17, 'rand...   \n",
       "16  {'randomforestregressor__max_depth': 17, 'rand...   \n",
       "17  {'randomforestregressor__max_depth': 17, 'rand...   \n",
       "18  {'randomforestregressor__max_depth': 17, 'rand...   \n",
       "19  {'randomforestregressor__max_depth': 17, 'rand...   \n",
       "\n",
       "    mean_train_neg_mean_squared_error  mean_test_neg_mean_squared_error  \n",
       "0                         -167.931996                       -410.463159  \n",
       "1                         -158.425217                       -403.865969  \n",
       "2                         -156.324299                       -403.473723  \n",
       "3                         -154.352223                       -406.888202  \n",
       "4                         -154.310716                       -407.318910  \n",
       "5                          -70.490213                       -445.862678  \n",
       "6                          -54.538793                       -433.745514  \n",
       "7                          -47.954009                       -415.469686  \n",
       "8                          -45.163632                       -411.680952  \n",
       "9                          -45.046828                       -405.995168  \n",
       "10                         -63.621091                       -464.295923  \n",
       "11                         -45.949605                       -431.681531  \n",
       "12                         -39.003584                       -410.565795  \n",
       "13                         -36.435634                       -408.978156  \n",
       "14                         -36.331217                       -404.862055  \n",
       "15                         -63.143023                       -463.962150  \n",
       "16                         -45.731872                       -432.668271  \n",
       "17                         -38.787556                       -411.889441  \n",
       "18                         -36.259942                       -408.261444  \n",
       "19                         -36.141273                       -403.434674  "
      ]
     },
     "metadata": {},
     "output_type": "display_data"
    },
    {
     "name": "stdout",
     "output_type": "stream",
     "text": [
      "Best score from DTree grid search: -443.381\n",
      "Best set of params from DTree {'decisiontreeregressor__max_depth': 5}\n"
     ]
    },
    {
     "data": {
      "text/html": [
       "<div>\n",
       "<style scoped>\n",
       "    .dataframe tbody tr th:only-of-type {\n",
       "        vertical-align: middle;\n",
       "    }\n",
       "\n",
       "    .dataframe tbody tr th {\n",
       "        vertical-align: top;\n",
       "    }\n",
       "\n",
       "    .dataframe thead th {\n",
       "        text-align: right;\n",
       "    }\n",
       "</style>\n",
       "<table border=\"1\" class=\"dataframe\">\n",
       "  <thead>\n",
       "    <tr style=\"text-align: right;\">\n",
       "      <th></th>\n",
       "      <th>mean_fit_time</th>\n",
       "      <th>mean_score_time</th>\n",
       "      <th>params</th>\n",
       "      <th>mean_train_neg_mean_squared_error</th>\n",
       "      <th>mean_test_neg_mean_squared_error</th>\n",
       "    </tr>\n",
       "  </thead>\n",
       "  <tbody>\n",
       "    <tr>\n",
       "      <th>0</th>\n",
       "      <td>0.017121</td>\n",
       "      <td>0.009774</td>\n",
       "      <td>{'decisiontreeregressor__max_depth': 5}</td>\n",
       "      <td>-180.688471</td>\n",
       "      <td>-443.380736</td>\n",
       "    </tr>\n",
       "    <tr>\n",
       "      <th>1</th>\n",
       "      <td>0.017698</td>\n",
       "      <td>0.008397</td>\n",
       "      <td>{'decisiontreeregressor__max_depth': 10}</td>\n",
       "      <td>-27.971977</td>\n",
       "      <td>-557.741375</td>\n",
       "    </tr>\n",
       "    <tr>\n",
       "      <th>2</th>\n",
       "      <td>0.015052</td>\n",
       "      <td>0.007418</td>\n",
       "      <td>{'decisiontreeregressor__max_depth': 15}</td>\n",
       "      <td>-0.923241</td>\n",
       "      <td>-563.350166</td>\n",
       "    </tr>\n",
       "    <tr>\n",
       "      <th>3</th>\n",
       "      <td>0.014074</td>\n",
       "      <td>0.006493</td>\n",
       "      <td>{'decisiontreeregressor__max_depth': 20}</td>\n",
       "      <td>-0.003897</td>\n",
       "      <td>-584.991408</td>\n",
       "    </tr>\n",
       "  </tbody>\n",
       "</table>\n",
       "</div>"
      ],
      "text/plain": [
       "   mean_fit_time  mean_score_time                                    params  \\\n",
       "0       0.017121         0.009774   {'decisiontreeregressor__max_depth': 5}   \n",
       "1       0.017698         0.008397  {'decisiontreeregressor__max_depth': 10}   \n",
       "2       0.015052         0.007418  {'decisiontreeregressor__max_depth': 15}   \n",
       "3       0.014074         0.006493  {'decisiontreeregressor__max_depth': 20}   \n",
       "\n",
       "   mean_train_neg_mean_squared_error  mean_test_neg_mean_squared_error  \n",
       "0                        -180.688471                       -443.380736  \n",
       "1                         -27.971977                       -557.741375  \n",
       "2                          -0.923241                       -563.350166  \n",
       "3                          -0.003897                       -584.991408  "
      ]
     },
     "metadata": {},
     "output_type": "display_data"
    }
   ],
   "source": [
    "y, X = final_data[['5%', '10%', '20%', '30%', '40%', '50%', '60%', '70%', '80%']], final_data[['Density', 'Butanes', 'Heptanes', 'Hexanes', 'Octanes', 'Nonanes']]\n",
    "    \n",
    "param_grid_dtree = {\"decisiontreeregressor__max_depth\": [5, 10, 15, 20]}\n",
    "param_grid_rf = {\"randomforestregressor__n_estimators\" : [5, 10, 20, 50, 60],\n",
    "                \"randomforestregressor__max_depth\" : [5, 10, 15, 17]}\n",
    "param_ridge = {}\n",
    "param_linear = {}\n",
    "    \n",
    "pipe_rf = make_pipeline(StandardScaler(), RandomForestRegressor(random_state=2))\n",
    "pipe_tree = make_pipeline(StandardScaler(), DecisionTreeRegressor())\n",
    "pipe_ridge = make_pipeline(StandardScaler(), Ridge())\n",
    "pipe_linear = make_pipeline(StandardScaler(), LinearRegression())\n",
    "\n",
    "regressors = {\n",
    "    \"linear\": [pipe_linear, param_linear],\n",
    "    \"ridge\": [pipe_ridge, param_ridge],\n",
    "    \"random_forest\": [pipe_rf, param_grid_rf],\n",
    "    \"DTree\": [pipe_tree, param_grid_dtree]\n",
    "}\n",
    "    \n",
    "for name, model in regressors.items():  \n",
    "    grid_search = GridSearchCV(model[0], model[1], cv=10, n_jobs=-1, return_train_score=True, refit = 'neg_mean_squared_error', scoring = ['neg_mean_squared_error'])\n",
    "    grid_search.fit(X, y)\n",
    "    print(f\"Best score from {name} grid search: %.3f\" % grid_search.best_score_)\n",
    "    print(f\"Best set of params from {name}\", grid_search.best_params_)\n",
    "    metrics = pd.DataFrame(grid_search.cv_results_)\n",
    "    display(metrics[['mean_fit_time', 'mean_score_time', 'params', 'mean_train_neg_mean_squared_error', 'mean_test_neg_mean_squared_error']])\n",
    "    \n",
    "# final_model = Ridge()\n",
    "# final_model.fit(X, y)\n",
    "# liquid_1 = final_model.predict([[56.6, 101.0, 144.5, 188.0, 240.6, 298.8, 356.2, 422.4, 512.4]])\n",
    "# liquid_2 = final_model.predict([[42.2, 83.6, 115.5, 160.1, 202.7, 257.6, 313.7, 378.5, 453.2]])\n"
   ]
  },
  {
   "cell_type": "code",
   "execution_count": 34,
   "id": "da3c682a",
   "metadata": {},
   "outputs": [
    {
     "name": "stdout",
     "output_type": "stream",
     "text": [
      "5%\n",
      "5% fit_time        0.014057\n",
      "score_time      0.008412\n",
      "test_score   -200.279282\n",
      "dtype: float64\n",
      "10%\n",
      "10% fit_time        0.012438\n",
      "score_time      0.009387\n",
      "test_score   -320.430713\n",
      "dtype: float64\n",
      "20%\n",
      "20% fit_time        0.019964\n",
      "score_time      0.012798\n",
      "test_score   -475.521200\n",
      "dtype: float64\n",
      "30%\n",
      "30% fit_time        0.012774\n",
      "score_time      0.011290\n",
      "test_score   -197.994520\n",
      "dtype: float64\n",
      "40%\n",
      "40% fit_time        0.013325\n",
      "score_time      0.008701\n",
      "test_score   -230.194772\n",
      "dtype: float64\n",
      "50%\n",
      "50% fit_time        0.017318\n",
      "score_time      0.007514\n",
      "test_score   -281.209033\n",
      "dtype: float64\n",
      "60%\n",
      "60% fit_time        0.018001\n",
      "score_time      0.006986\n",
      "test_score   -381.469446\n",
      "dtype: float64\n",
      "70%\n",
      "70% fit_time        0.008121\n",
      "score_time      0.007111\n",
      "test_score   -497.643802\n",
      "dtype: float64\n",
      "80%\n",
      "80% fit_time        0.011341\n",
      "score_time      0.008405\n",
      "test_score   -588.736174\n",
      "dtype: float64\n"
     ]
    }
   ],
   "source": [
    "for feature in y:\n",
    "    print(feature)\n",
    "    y_hat = final_data[[f\"{feature}\"]]\n",
    "    final_model = Ridge()\n",
    "    cv = RepeatedKFold(n_splits=5, n_repeats=1, random_state=1)\n",
    "    n_scores = cross_validate(final_model, X, y_hat, cv=cv, scoring = 'neg_mean_squared_error', n_jobs=-1)\n",
    "    print(f\"{feature}\", pd.DataFrame(n_scores).mean())"
   ]
  },
  {
   "cell_type": "code",
   "execution_count": 6,
   "id": "1f0f1bbd",
   "metadata": {},
   "outputs": [],
   "source": [
    "y, X = final_data[['5%', '10%', '20%', '30%', '40%', '50%', '60%', '70%', '80%']], final_data[['Density', 'Butanes', 'Heptanes', 'Hexanes', 'Octanes', 'Nonanes', 'Decanes']]"
   ]
  },
  {
   "cell_type": "code",
   "execution_count": null,
   "id": "2ea9e9d5",
   "metadata": {},
   "outputs": [],
   "source": []
  },
  {
   "cell_type": "code",
   "execution_count": null,
   "id": "3aeeb6da",
   "metadata": {},
   "outputs": [],
   "source": []
  },
  {
   "cell_type": "markdown",
   "id": "bb10bf0f",
   "metadata": {},
   "source": [
    "## Modularizing code"
   ]
  },
  {
   "cell_type": "code",
   "execution_count": null,
   "id": "70eef186",
   "metadata": {},
   "outputs": [],
   "source": [
    "def distillation_profile_function(dist_prof1, vol1, dist_prof2, vol2):\n",
    "    '''\n",
    "    Predicting the distillation profile of the mixture of two liquids\n",
    "    \n",
    "    Parameters:\n",
    "    -----------------------------\n",
    "        dist_prof1: dict, distillation profile for liquid-1\n",
    "        vol1: int, volume of liquid-1 in the mixture\n",
    "        dist_prof2: dict, distillation profile for liquid-2\n",
    "        vol2: int, volume of liquid-2 in the mixture\n",
    "        \n",
    "    Returns:\n",
    "    -----------------------------\n",
    "        a dictionary with the distillation profile of the mixture\n",
    "    '''\n",
    "    \n",
    "    data = read_data()\n",
    "    liquid_1, liquid_2 = pred_model(data, dist_prof1, dist_prof2)\n",
    "    final_mixture_comp = pred_mixture_comp(liquid_1, liquid_2, vol1, vol2)\n",
    "    dist_prof_final = pred_dist_prof(data, final_mixture_comp)"
   ]
  },
  {
   "cell_type": "code",
   "execution_count": null,
   "id": "1dcf5f63",
   "metadata": {},
   "outputs": [],
   "source": [
    "def read_data():\n",
    "    '''\n",
    "    Reading data from multiple files in the data folder of the repo\n",
    "        \n",
    "    Returns:\n",
    "    -----------------------------\n",
    "        a dataframe with the data from all files\n",
    "    '''\n",
    "    \n",
    "    required_columns = ['Density (kg/m^3)', 'Butanes (vol%)', 'Heptanes (mass%)', 'Hexanes (mass%)', 'Octanes (vol%)','Nonanes (vol%)', 'Decanes (vol%)', '5% Off (deg. C)', '10% Off (deg. C)', '20% Off (deg. C)', '30% Off (deg. C)', '40% Off (deg. C)', '50% Off (deg. C)', '60% Off (deg. C)', '70% Off (deg. C)', '80% Off (deg. C)']\n",
    "    final_data = pd.DataFrame(columns = required_columns)\n",
    "\n",
    "    for filename in os.listdir(\"data\"):\n",
    "        if filename.endswith(\".CSV\"):\n",
    "            data = pd.read_csv(f\"data/{filename}\")\n",
    "            data = data[required_columns]\n",
    "            final_data = final_data.append(data, ignore_index = True)\n",
    "\n",
    "    final_data = final_data.dropna()\n",
    "\n",
    "    final_data.columns = ['Density', 'Butanes', 'Heptanes', 'Hexanes', 'Octanes', 'Nonanes', 'Decanes','5%', '10%', '20%', '30%', '40%', '50%', '60%', '70%', '80%']\n",
    "    return final_data"
   ]
  },
  {
   "cell_type": "code",
   "execution_count": 225,
   "id": "ae16858b",
   "metadata": {},
   "outputs": [],
   "source": [
    "def pred_model(data, dist_prof1, dist_prof2):\n",
    "    '''\n",
    "    Predicting the mass% of different compounds in the liquids given the distillation profile\n",
    "    \n",
    "    Parameters:\n",
    "    -----------------------------\n",
    "        data: dataframe, the input data with the features and target variables for training the model\n",
    "        dist_prof1: dict, distillation profile for liquid-1\n",
    "        dist_prof2: dict, distillation profile for liquid-2\n",
    "        \n",
    "    Returns:\n",
    "    -----------------------------\n",
    "        two arrays with the composition by mass of the compounds in the liquid\n",
    "    '''\n",
    "    \n",
    "    X, y = data[['5%', '10%', '20%', '30%', '40%', '50%', '60%', '70%', '80%']], data[['Density', 'Butanes', 'Heptanes', 'Hexanes', 'Octanes', 'Nonanes', 'Decanes']]\n",
    "    \n",
    "    param_grid_dtree = {\"decisiontreeregressor__max_depth\": [5, 10, 15, 20]}\n",
    "    param_grid_rf = {\"randomforestregressor__n_estimators\" : [5, 10, 20, 50, 60],\n",
    "                \"randomforestregressor__max_depth\" : [5, 10, 15, 17]}\n",
    "    param_ridge = {}\n",
    "    \n",
    "    pipe_rf = make_pipeline(RandomForestRegressor(random_state=2))\n",
    "    pipe_tree = make_pipeline(DecisionTreeRegressor())\n",
    "    pipe_ridge = make_pipeline(Ridge())\n",
    "\n",
    "    regressors = {\n",
    "        \"ridge\": [pipe_ridge, param_ridge],\n",
    "        \"random_forest\": [pipe_rf, param_grid_rf],\n",
    "        \"DTree\": [pipe_tree, param_grid_dtree]\n",
    "    }\n",
    "    \n",
    "    for name, model in regressors.items():  \n",
    "        grid_search = GridSearchCV(model[0], model[1], cv=10, n_jobs=-1, return_train_score=True, refit = 'neg_mean_squared_error', scoring = ['neg_mean_squared_error'])\n",
    "        grid_search.fit(X, y)\n",
    "        print(f\"Best score from {name} grid search: %.3f\" % grid_search.best_score_)\n",
    "        print(f\"Best set of params from {name}\", grid_search.best_params_)\n",
    "        metrics = pd.DataFrame(grid_search.cv_results_)\n",
    "        display(metrics[['mean_fit_time', 'mean_score_time', 'params', 'mean_train_neg_mean_squared_error', 'mean_test_neg_mean_squared_error']])\n",
    "    \n",
    "    final_model = Ridge()\n",
    "    final_model.fit(X, y)\n",
    "    liquid_1 = final_model.predict([[56.6, 101.0, 144.5, 188.0, 240.6, 298.8, 356.2, 422.4, 512.4]])\n",
    "    liquid_2 = final_model.predict([[42.2, 83.6, 115.5, 160.1, 202.7, 257.6, 313.7, 378.5, 453.2]])\n",
    "    \n",
    "    return liquid_1, liquid_2"
   ]
  },
  {
   "cell_type": "code",
   "execution_count": null,
   "id": "d21e2956",
   "metadata": {},
   "outputs": [],
   "source": [
    "def pred_mixture_comp(liquid_1, liquid_2, vol1, vol2):\n",
    "    '''\n",
    "    Find the composition by mass% in the final mixture\n",
    "    \n",
    "    Parameters:\n",
    "    -----------------------------\n",
    "        liquid_1: array, composition by mass of liquid-1\n",
    "        liquid_2: array, composition by mass of liquid-2\n",
    "        vol1: int, volume of liquid-1 in the mixture\n",
    "        vol2: int, volume of liquid-2 in the mixture\n",
    "        \n",
    "    Returns:\n",
    "    -----------------------------\n",
    "        an array with the composition by mass of the mixture\n",
    "    '''\n",
    "    \n",
    "    mass_1 = liquid_1[0] * vol1\n",
    "    mass_2 = liquid_2[0] * vol2\n",
    "    \n",
    "    final_mixture_comp = (mass_1 * liquid_1[1:] + mass_2 * liquid_2[1:])/ (mass_1 + mass_2)\n",
    "    \n",
    "    return final_mixture_comp"
   ]
  },
  {
   "cell_type": "code",
   "execution_count": null,
   "id": "a3da10ba",
   "metadata": {},
   "outputs": [],
   "source": [
    "def pred_dist_prof(data, final_mixture_comp):\n",
    "    '''\n",
    "    Predict the distillation profile given the composition by mass% of a liquid\n",
    "    \n",
    "    Parameters:\n",
    "    -----------------------------\n",
    "        data: dataframe, the input data with the features and target variables for training the model\n",
    "        final_mixture_comp: array, composition by mass of the liquid\n",
    "        \n",
    "    Returns:\n",
    "    -----------------------------\n",
    "        an array with the composition by mass of the mixture\n",
    "    '''\n",
    "    \n",
    "    y, X = data[['5%', '10%', '20%', '30%', '40%', '50%', '60%', '70%', '80%']], data[['Density', 'Butanes', 'Heptanes', 'Hexanes', 'Octanes', 'Nonanes', 'Decanes']]\n",
    "    preds = []\n",
    "    for i in range(len(y)):\n",
    "        y_hat = final_data[[f\"{feature}\"]]\n",
    "        final_model = Ridge()\n",
    "        final_model.fit(X, y_hat)\n",
    "        preds.append(final_model.predict([final_mixture_comp[i]]))\n",
    "    return preds"
   ]
  }
 ],
 "metadata": {
  "kernelspec": {
   "display_name": "Python [conda env:mds574]",
   "language": "python",
   "name": "conda-env-mds574-py"
  },
  "language_info": {
   "codemirror_mode": {
    "name": "ipython",
    "version": 3
   },
   "file_extension": ".py",
   "mimetype": "text/x-python",
   "name": "python",
   "nbconvert_exporter": "python",
   "pygments_lexer": "ipython3",
   "version": "3.7.10"
  }
 },
 "nbformat": 4,
 "nbformat_minor": 5
}
